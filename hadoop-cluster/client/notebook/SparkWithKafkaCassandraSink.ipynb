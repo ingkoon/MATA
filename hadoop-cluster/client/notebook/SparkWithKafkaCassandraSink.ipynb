{
 "cells": [
  {
   "cell_type": "markdown",
   "id": "42da6111-9693-4d53-9647-5537ff163e62",
   "metadata": {},
   "source": [
    "# Kafka Streaming + PySpark 예제\n",
    "\n",
    "### 1. findspark를 통해 pyspark 등 라이브러리 추가"
   ]
  },
  {
   "cell_type": "code",
   "execution_count": 1,
   "id": "8d91074e-e4d9-4bd8-8590-56337fef5355",
   "metadata": {
    "tags": []
   },
   "outputs": [],
   "source": [
    "import findspark\n",
    "findspark.init(\"/usr/local/lib/spark-3.3.2-bin-hadoop3\")"
   ]
  },
  {
   "cell_type": "markdown",
   "id": "5040f3d6-69fe-427a-b2dd-b223cce55fb2",
   "metadata": {},
   "source": [
    "### 2. SparkConf를 통해 configuration 추가하고, SparkContext 생성\n",
    "spark-kafka와 spark-cassandra 의존성이 추가되어야 한다."
   ]
  },
  {
   "cell_type": "code",
   "execution_count": 2,
   "id": "15d5ee6f-0b60-488b-984d-ed13f7322b6b",
   "metadata": {
    "tags": []
   },
   "outputs": [
    {
     "name": "stdout",
     "output_type": "stream",
     "text": [
      ":: loading settings :: url = jar:file:/usr/local/lib/spark-3.3.2-bin-hadoop3/jars/ivy-2.5.1.jar!/org/apache/ivy/core/settings/ivysettings.xml\n"
     ]
    },
    {
     "name": "stderr",
     "output_type": "stream",
     "text": [
      "Ivy Default Cache set to: /root/.ivy2/cache\n",
      "The jars for the packages stored in: /root/.ivy2/jars\n",
      "org.apache.spark#spark-sql-kafka-0-10_2.12 added as a dependency\n",
      "com.datastax.spark#spark-cassandra-connector_2.12 added as a dependency\n",
      ":: resolving dependencies :: org.apache.spark#spark-submit-parent-369a8a97-a597-4698-847b-77dd20d48ce7;1.0\n",
      "\tconfs: [default]\n",
      "\tfound org.apache.spark#spark-sql-kafka-0-10_2.12;3.3.2 in central\n",
      "\tfound org.apache.spark#spark-token-provider-kafka-0-10_2.12;3.3.2 in central\n",
      "\tfound org.apache.kafka#kafka-clients;2.8.1 in central\n",
      "\tfound org.lz4#lz4-java;1.8.0 in central\n",
      "\tfound org.xerial.snappy#snappy-java;1.1.8.4 in central\n",
      "\tfound org.slf4j#slf4j-api;1.7.32 in central\n",
      "\tfound org.apache.hadoop#hadoop-client-runtime;3.3.2 in central\n",
      "\tfound org.spark-project.spark#unused;1.0.0 in central\n",
      "\tfound org.apache.hadoop#hadoop-client-api;3.3.2 in central\n",
      "\tfound commons-logging#commons-logging;1.1.3 in central\n",
      "\tfound com.google.code.findbugs#jsr305;3.0.0 in central\n",
      "\tfound org.apache.commons#commons-pool2;2.11.1 in central\n",
      "\tfound com.datastax.spark#spark-cassandra-connector_2.12;3.3.0 in central\n",
      "\tfound com.datastax.spark#spark-cassandra-connector-driver_2.12;3.3.0 in central\n",
      "\tfound com.datastax.oss#java-driver-core-shaded;4.13.0 in central\n",
      "\tfound com.datastax.oss#native-protocol;1.5.0 in central\n",
      "\tfound com.datastax.oss#java-driver-shaded-guava;25.1-jre-graal-sub-1 in central\n",
      "\tfound com.typesafe#config;1.4.1 in central\n",
      "\tfound io.dropwizard.metrics#metrics-core;4.1.18 in central\n",
      "\tfound org.hdrhistogram#HdrHistogram;2.1.12 in central\n",
      "\tfound org.reactivestreams#reactive-streams;1.0.3 in central\n",
      "\tfound com.github.stephenc.jcip#jcip-annotations;1.0-1 in central\n",
      "\tfound com.github.spotbugs#spotbugs-annotations;3.1.12 in central\n",
      "\tfound com.google.code.findbugs#jsr305;3.0.2 in central\n",
      "\tfound com.datastax.oss#java-driver-mapper-runtime;4.13.0 in central\n",
      "\tfound com.datastax.oss#java-driver-query-builder;4.13.0 in central\n",
      "\tfound org.apache.commons#commons-lang3;3.10 in central\n",
      "\tfound com.thoughtworks.paranamer#paranamer;2.8 in central\n",
      "\tfound org.scala-lang#scala-reflect;2.12.11 in central\n",
      "downloading https://repo1.maven.org/maven2/org/apache/spark/spark-sql-kafka-0-10_2.12/3.3.2/spark-sql-kafka-0-10_2.12-3.3.2.jar ...\n",
      "\t[SUCCESSFUL ] org.apache.spark#spark-sql-kafka-0-10_2.12;3.3.2!spark-sql-kafka-0-10_2.12.jar (533ms)\n",
      "downloading https://repo1.maven.org/maven2/com/datastax/spark/spark-cassandra-connector_2.12/3.3.0/spark-cassandra-connector_2.12-3.3.0.jar ...\n",
      "\t[SUCCESSFUL ] com.datastax.spark#spark-cassandra-connector_2.12;3.3.0!spark-cassandra-connector_2.12.jar (1306ms)\n",
      "downloading https://repo1.maven.org/maven2/org/apache/spark/spark-token-provider-kafka-0-10_2.12/3.3.2/spark-token-provider-kafka-0-10_2.12-3.3.2.jar ...\n",
      "\t[SUCCESSFUL ] org.apache.spark#spark-token-provider-kafka-0-10_2.12;3.3.2!spark-token-provider-kafka-0-10_2.12.jar (320ms)\n",
      "downloading https://repo1.maven.org/maven2/org/apache/kafka/kafka-clients/2.8.1/kafka-clients-2.8.1.jar ...\n",
      "\t[SUCCESSFUL ] org.apache.kafka#kafka-clients;2.8.1!kafka-clients.jar (2321ms)\n",
      "downloading https://repo1.maven.org/maven2/org/apache/commons/commons-pool2/2.11.1/commons-pool2-2.11.1.jar ...\n",
      "\t[SUCCESSFUL ] org.apache.commons#commons-pool2;2.11.1!commons-pool2.jar (390ms)\n",
      "downloading https://repo1.maven.org/maven2/org/spark-project/spark/unused/1.0.0/unused-1.0.0.jar ...\n",
      "\t[SUCCESSFUL ] org.spark-project.spark#unused;1.0.0!unused.jar (282ms)\n",
      "downloading https://repo1.maven.org/maven2/org/apache/hadoop/hadoop-client-runtime/3.3.2/hadoop-client-runtime-3.3.2.jar ...\n",
      "\t[SUCCESSFUL ] org.apache.hadoop#hadoop-client-runtime;3.3.2!hadoop-client-runtime.jar (33602ms)\n",
      "downloading https://repo1.maven.org/maven2/org/lz4/lz4-java/1.8.0/lz4-java-1.8.0.jar ...\n",
      "\t[SUCCESSFUL ] org.lz4#lz4-java;1.8.0!lz4-java.jar (2231ms)\n",
      "downloading https://repo1.maven.org/maven2/org/xerial/snappy/snappy-java/1.1.8.4/snappy-java-1.1.8.4.jar ...\n",
      "\t[SUCCESSFUL ] org.xerial.snappy#snappy-java;1.1.8.4!snappy-java.jar(bundle) (8962ms)\n",
      "downloading https://repo1.maven.org/maven2/org/slf4j/slf4j-api/1.7.32/slf4j-api-1.7.32.jar ...\n",
      "\t[SUCCESSFUL ] org.slf4j#slf4j-api;1.7.32!slf4j-api.jar (514ms)\n",
      "downloading https://repo1.maven.org/maven2/org/apache/hadoop/hadoop-client-api/3.3.2/hadoop-client-api-3.3.2.jar ...\n",
      "\t[SUCCESSFUL ] org.apache.hadoop#hadoop-client-api;3.3.2!hadoop-client-api.jar (78540ms)\n",
      "downloading https://repo1.maven.org/maven2/commons-logging/commons-logging/1.1.3/commons-logging-1.1.3.jar ...\n",
      "\t[SUCCESSFUL ] commons-logging#commons-logging;1.1.3!commons-logging.jar (450ms)\n",
      "downloading https://repo1.maven.org/maven2/com/datastax/spark/spark-cassandra-connector-driver_2.12/3.3.0/spark-cassandra-connector-driver_2.12-3.3.0.jar ...\n",
      "\t[SUCCESSFUL ] com.datastax.spark#spark-cassandra-connector-driver_2.12;3.3.0!spark-cassandra-connector-driver_2.12.jar (3251ms)\n",
      "downloading https://repo1.maven.org/maven2/com/datastax/oss/java-driver-core-shaded/4.13.0/java-driver-core-shaded-4.13.0.jar ...\n",
      "\t[SUCCESSFUL ] com.datastax.oss#java-driver-core-shaded;4.13.0!java-driver-core-shaded.jar (9927ms)\n",
      "downloading https://repo1.maven.org/maven2/com/datastax/oss/java-driver-mapper-runtime/4.13.0/java-driver-mapper-runtime-4.13.0.jar ...\n",
      "\t[SUCCESSFUL ] com.datastax.oss#java-driver-mapper-runtime;4.13.0!java-driver-mapper-runtime.jar(bundle) (348ms)\n",
      "downloading https://repo1.maven.org/maven2/org/apache/commons/commons-lang3/3.10/commons-lang3-3.10.jar ...\n",
      "\t[SUCCESSFUL ] org.apache.commons#commons-lang3;3.10!commons-lang3.jar (786ms)\n",
      "downloading https://repo1.maven.org/maven2/com/thoughtworks/paranamer/paranamer/2.8/paranamer-2.8.jar ...\n",
      "\t[SUCCESSFUL ] com.thoughtworks.paranamer#paranamer;2.8!paranamer.jar(bundle) (307ms)\n",
      "downloading https://repo1.maven.org/maven2/org/scala-lang/scala-reflect/2.12.11/scala-reflect-2.12.11.jar ...\n",
      "\t[SUCCESSFUL ] org.scala-lang#scala-reflect;2.12.11!scala-reflect.jar (7041ms)\n",
      "downloading https://repo1.maven.org/maven2/com/datastax/oss/native-protocol/1.5.0/native-protocol-1.5.0.jar ...\n",
      "\t[SUCCESSFUL ] com.datastax.oss#native-protocol;1.5.0!native-protocol.jar(bundle) (763ms)\n",
      "downloading https://repo1.maven.org/maven2/com/datastax/oss/java-driver-shaded-guava/25.1-jre-graal-sub-1/java-driver-shaded-guava-25.1-jre-graal-sub-1.jar ...\n",
      "\t[SUCCESSFUL ] com.datastax.oss#java-driver-shaded-guava;25.1-jre-graal-sub-1!java-driver-shaded-guava.jar (4165ms)\n",
      "downloading https://repo1.maven.org/maven2/com/typesafe/config/1.4.1/config-1.4.1.jar ...\n",
      "\t[SUCCESSFUL ] com.typesafe#config;1.4.1!config.jar(bundle) (529ms)\n",
      "downloading https://repo1.maven.org/maven2/io/dropwizard/metrics/metrics-core/4.1.18/metrics-core-4.1.18.jar ...\n",
      "\t[SUCCESSFUL ] io.dropwizard.metrics#metrics-core;4.1.18!metrics-core.jar(bundle) (361ms)\n",
      "downloading https://repo1.maven.org/maven2/org/hdrhistogram/HdrHistogram/2.1.12/HdrHistogram-2.1.12.jar ...\n",
      "\t[SUCCESSFUL ] org.hdrhistogram#HdrHistogram;2.1.12!HdrHistogram.jar(bundle) (450ms)\n",
      "downloading https://repo1.maven.org/maven2/org/reactivestreams/reactive-streams/1.0.3/reactive-streams-1.0.3.jar ...\n",
      "\t[SUCCESSFUL ] org.reactivestreams#reactive-streams;1.0.3!reactive-streams.jar (293ms)\n",
      "downloading https://repo1.maven.org/maven2/com/github/stephenc/jcip/jcip-annotations/1.0-1/jcip-annotations-1.0-1.jar ...\n",
      "\t[SUCCESSFUL ] com.github.stephenc.jcip#jcip-annotations;1.0-1!jcip-annotations.jar (284ms)\n",
      "downloading https://repo1.maven.org/maven2/com/github/spotbugs/spotbugs-annotations/3.1.12/spotbugs-annotations-3.1.12.jar ...\n",
      "\t[SUCCESSFUL ] com.github.spotbugs#spotbugs-annotations;3.1.12!spotbugs-annotations.jar (295ms)\n",
      "downloading https://repo1.maven.org/maven2/com/google/code/findbugs/jsr305/3.0.2/jsr305-3.0.2.jar ...\n",
      "\t[SUCCESSFUL ] com.google.code.findbugs#jsr305;3.0.2!jsr305.jar (327ms)\n",
      "downloading https://repo1.maven.org/maven2/com/datastax/oss/java-driver-query-builder/4.13.0/java-driver-query-builder-4.13.0.jar ...\n",
      "\t[SUCCESSFUL ] com.datastax.oss#java-driver-query-builder;4.13.0!java-driver-query-builder.jar(bundle) (594ms)\n",
      ":: resolution report :: resolve 30436ms :: artifacts dl 159185ms\n",
      "\t:: modules in use:\n",
      "\tcom.datastax.oss#java-driver-core-shaded;4.13.0 from central in [default]\n",
      "\tcom.datastax.oss#java-driver-mapper-runtime;4.13.0 from central in [default]\n",
      "\tcom.datastax.oss#java-driver-query-builder;4.13.0 from central in [default]\n",
      "\tcom.datastax.oss#java-driver-shaded-guava;25.1-jre-graal-sub-1 from central in [default]\n",
      "\tcom.datastax.oss#native-protocol;1.5.0 from central in [default]\n",
      "\tcom.datastax.spark#spark-cassandra-connector-driver_2.12;3.3.0 from central in [default]\n",
      "\tcom.datastax.spark#spark-cassandra-connector_2.12;3.3.0 from central in [default]\n",
      "\tcom.github.spotbugs#spotbugs-annotations;3.1.12 from central in [default]\n",
      "\tcom.github.stephenc.jcip#jcip-annotations;1.0-1 from central in [default]\n",
      "\tcom.google.code.findbugs#jsr305;3.0.2 from central in [default]\n",
      "\tcom.thoughtworks.paranamer#paranamer;2.8 from central in [default]\n",
      "\tcom.typesafe#config;1.4.1 from central in [default]\n",
      "\tcommons-logging#commons-logging;1.1.3 from central in [default]\n",
      "\tio.dropwizard.metrics#metrics-core;4.1.18 from central in [default]\n",
      "\torg.apache.commons#commons-lang3;3.10 from central in [default]\n",
      "\torg.apache.commons#commons-pool2;2.11.1 from central in [default]\n",
      "\torg.apache.hadoop#hadoop-client-api;3.3.2 from central in [default]\n",
      "\torg.apache.hadoop#hadoop-client-runtime;3.3.2 from central in [default]\n",
      "\torg.apache.kafka#kafka-clients;2.8.1 from central in [default]\n",
      "\torg.apache.spark#spark-sql-kafka-0-10_2.12;3.3.2 from central in [default]\n",
      "\torg.apache.spark#spark-token-provider-kafka-0-10_2.12;3.3.2 from central in [default]\n",
      "\torg.hdrhistogram#HdrHistogram;2.1.12 from central in [default]\n",
      "\torg.lz4#lz4-java;1.8.0 from central in [default]\n",
      "\torg.reactivestreams#reactive-streams;1.0.3 from central in [default]\n",
      "\torg.scala-lang#scala-reflect;2.12.11 from central in [default]\n",
      "\torg.slf4j#slf4j-api;1.7.32 from central in [default]\n",
      "\torg.spark-project.spark#unused;1.0.0 from central in [default]\n",
      "\torg.xerial.snappy#snappy-java;1.1.8.4 from central in [default]\n",
      "\t:: evicted modules:\n",
      "\tcom.google.code.findbugs#jsr305;3.0.0 by [com.google.code.findbugs#jsr305;3.0.2] in [default]\n",
      "\torg.slf4j#slf4j-api;1.7.26 by [org.slf4j#slf4j-api;1.7.32] in [default]\n",
      "\t---------------------------------------------------------------------\n",
      "\t|                  |            modules            ||   artifacts   |\n",
      "\t|       conf       | number| search|dwnlded|evicted|| number|dwnlded|\n",
      "\t---------------------------------------------------------------------\n",
      "\t|      default     |   30  |   29  |   29  |   2   ||   28  |   28  |\n",
      "\t---------------------------------------------------------------------\n",
      ":: retrieving :: org.apache.spark#spark-submit-parent-369a8a97-a597-4698-847b-77dd20d48ce7\n",
      "\tconfs: [default]\n",
      "\t28 artifacts copied, 0 already retrieved (74625kB/55ms)\n"
     ]
    },
    {
     "name": "stdout",
     "output_type": "stream",
     "text": [
      "23/03/22 06:51:58 WARN NativeCodeLoader: Unable to load native-hadoop library for your platform... using builtin-java classes where applicable\n"
     ]
    },
    {
     "name": "stderr",
     "output_type": "stream",
     "text": [
      "Setting default log level to \"WARN\".\n",
      "To adjust logging level use sc.setLogLevel(newLevel). For SparkR, use setLogLevel(newLevel).\n"
     ]
    },
    {
     "name": "stdout",
     "output_type": "stream",
     "text": [
      "23/03/22 06:51:59 WARN Client: Neither spark.yarn.jars nor spark.yarn.archive is set, falling back to uploading libraries under SPARK_HOME.\n",
      "23/03/22 06:52:03 WARN Client: Same path resource file:///root/.ivy2/jars/org.apache.spark_spark-sql-kafka-0-10_2.12-3.3.2.jar added multiple times to distributed cache.\n",
      "23/03/22 06:52:03 WARN Client: Same path resource file:///root/.ivy2/jars/com.datastax.spark_spark-cassandra-connector_2.12-3.3.0.jar added multiple times to distributed cache.\n",
      "23/03/22 06:52:03 WARN Client: Same path resource file:///root/.ivy2/jars/org.apache.spark_spark-token-provider-kafka-0-10_2.12-3.3.2.jar added multiple times to distributed cache.\n",
      "23/03/22 06:52:03 WARN Client: Same path resource file:///root/.ivy2/jars/org.apache.kafka_kafka-clients-2.8.1.jar added multiple times to distributed cache.\n",
      "23/03/22 06:52:03 WARN Client: Same path resource file:///root/.ivy2/jars/org.apache.commons_commons-pool2-2.11.1.jar added multiple times to distributed cache.\n",
      "23/03/22 06:52:03 WARN Client: Same path resource file:///root/.ivy2/jars/org.spark-project.spark_unused-1.0.0.jar added multiple times to distributed cache.\n",
      "23/03/22 06:52:03 WARN Client: Same path resource file:///root/.ivy2/jars/org.apache.hadoop_hadoop-client-runtime-3.3.2.jar added multiple times to distributed cache.\n",
      "23/03/22 06:52:03 WARN Client: Same path resource file:///root/.ivy2/jars/org.lz4_lz4-java-1.8.0.jar added multiple times to distributed cache.\n",
      "23/03/22 06:52:03 WARN Client: Same path resource file:///root/.ivy2/jars/org.xerial.snappy_snappy-java-1.1.8.4.jar added multiple times to distributed cache.\n",
      "23/03/22 06:52:03 WARN Client: Same path resource file:///root/.ivy2/jars/org.slf4j_slf4j-api-1.7.32.jar added multiple times to distributed cache.\n",
      "23/03/22 06:52:03 WARN Client: Same path resource file:///root/.ivy2/jars/org.apache.hadoop_hadoop-client-api-3.3.2.jar added multiple times to distributed cache.\n",
      "23/03/22 06:52:03 WARN Client: Same path resource file:///root/.ivy2/jars/commons-logging_commons-logging-1.1.3.jar added multiple times to distributed cache.\n",
      "23/03/22 06:52:03 WARN Client: Same path resource file:///root/.ivy2/jars/com.datastax.spark_spark-cassandra-connector-driver_2.12-3.3.0.jar added multiple times to distributed cache.\n",
      "23/03/22 06:52:03 WARN Client: Same path resource file:///root/.ivy2/jars/com.datastax.oss_java-driver-core-shaded-4.13.0.jar added multiple times to distributed cache.\n",
      "23/03/22 06:52:03 WARN Client: Same path resource file:///root/.ivy2/jars/com.datastax.oss_java-driver-mapper-runtime-4.13.0.jar added multiple times to distributed cache.\n",
      "23/03/22 06:52:03 WARN Client: Same path resource file:///root/.ivy2/jars/org.apache.commons_commons-lang3-3.10.jar added multiple times to distributed cache.\n",
      "23/03/22 06:52:03 WARN Client: Same path resource file:///root/.ivy2/jars/com.thoughtworks.paranamer_paranamer-2.8.jar added multiple times to distributed cache.\n",
      "23/03/22 06:52:03 WARN Client: Same path resource file:///root/.ivy2/jars/org.scala-lang_scala-reflect-2.12.11.jar added multiple times to distributed cache.\n",
      "23/03/22 06:52:03 WARN Client: Same path resource file:///root/.ivy2/jars/com.datastax.oss_native-protocol-1.5.0.jar added multiple times to distributed cache.\n",
      "23/03/22 06:52:03 WARN Client: Same path resource file:///root/.ivy2/jars/com.datastax.oss_java-driver-shaded-guava-25.1-jre-graal-sub-1.jar added multiple times to distributed cache.\n",
      "23/03/22 06:52:03 WARN Client: Same path resource file:///root/.ivy2/jars/com.typesafe_config-1.4.1.jar added multiple times to distributed cache.\n",
      "23/03/22 06:52:03 WARN Client: Same path resource file:///root/.ivy2/jars/io.dropwizard.metrics_metrics-core-4.1.18.jar added multiple times to distributed cache.\n",
      "23/03/22 06:52:03 WARN Client: Same path resource file:///root/.ivy2/jars/org.hdrhistogram_HdrHistogram-2.1.12.jar added multiple times to distributed cache.\n",
      "23/03/22 06:52:03 WARN Client: Same path resource file:///root/.ivy2/jars/org.reactivestreams_reactive-streams-1.0.3.jar added multiple times to distributed cache.\n",
      "23/03/22 06:52:03 WARN Client: Same path resource file:///root/.ivy2/jars/com.github.stephenc.jcip_jcip-annotations-1.0-1.jar added multiple times to distributed cache.\n",
      "23/03/22 06:52:03 WARN Client: Same path resource file:///root/.ivy2/jars/com.github.spotbugs_spotbugs-annotations-3.1.12.jar added multiple times to distributed cache.\n",
      "23/03/22 06:52:03 WARN Client: Same path resource file:///root/.ivy2/jars/com.google.code.findbugs_jsr305-3.0.2.jar added multiple times to distributed cache.\n",
      "23/03/22 06:52:03 WARN Client: Same path resource file:///root/.ivy2/jars/com.datastax.oss_java-driver-query-builder-4.13.0.jar added multiple times to distributed cache.\n"
     ]
    }
   ],
   "source": [
    "from pyspark import SparkConf\n",
    "from pyspark.sql.functions import *\n",
    "from pyspark.sql.types import *\n",
    "from pyspark.sql import *\n",
    "from pyspark.sql.functions import udf\n",
    "from pyspark.sql.functions import col, pandas_udf, split\n",
    "\n",
    "sconf = SparkConf()\n",
    "sconf.setAppName(\"Jupyter_Notebook\").set(\"spark.jars.packages\", \"org.apache.spark:spark-sql-kafka-0-10_2.12:3.3.2,com.datastax.spark:spark-cassandra-connector_2.12:3.3.0\")\n",
    "\n",
    "sc = SparkContext(conf=sconf)"
   ]
  },
  {
   "cell_type": "markdown",
   "id": "b5bc7419-fc36-4ccb-bb9e-7e0b547343a9",
   "metadata": {},
   "source": [
    "### 3. Kafka Topic에 sobscribe하여 Session의 readStream을 정의\n",
    "printSchema() 메소드를 통해 Kafka의 스키마를 확인할 수 있다."
   ]
  },
  {
   "cell_type": "code",
   "execution_count": 18,
   "id": "c60b51e8-0847-4d65-aefc-8763b6cd587b",
   "metadata": {
    "tags": []
   },
   "outputs": [
    {
     "name": "stdout",
     "output_type": "stream",
     "text": [
      "root\n",
      " |-- key: string (nullable = true)\n",
      " |-- value: struct (nullable = true)\n",
      " |    |-- serviceToken: string (nullable = true)\n",
      " |    |-- clientId: long (nullable = true)\n",
      " |    |-- sessionId: string (nullable = true)\n",
      " |    |-- serviceId: long (nullable = true)\n",
      " |    |-- event: string (nullable = true)\n",
      " |    |-- targetId: string (nullable = true)\n",
      " |    |-- positionX: integer (nullable = true)\n",
      " |    |-- positionY: integer (nullable = true)\n",
      " |    |-- location: string (nullable = true)\n",
      " |    |-- timestamp: long (nullable = true)\n",
      " |-- topic: string (nullable = true)\n",
      " |-- partition: integer (nullable = true)\n",
      " |-- offset: long (nullable = true)\n",
      " |-- timestamp: timestamp (nullable = true)\n",
      " |-- timestampType: integer (nullable = true)\n",
      "\n"
     ]
    }
   ],
   "source": [
    "from pyspark.sql.functions import from_json, col\n",
    "\n",
    "kafka_bootstrap_servers = 'master01:9092,master02:9092,slave01:9092,slave02:9092,slave03:9092'\n",
    "topic = 'tagmanager'\n",
    "schema = StructType(\n",
    "        [\n",
    "                StructField(\"serviceToken\", StringType()),\n",
    "                StructField(\"clientId\", LongType()),\n",
    "                StructField(\"sessionId\", StringType()),\n",
    "                StructField(\"serviceId\", LongType()),\n",
    "                StructField(\"event\", StringType()),\n",
    "                StructField(\"targetId\", StringType()),\n",
    "                StructField(\"positionX\", IntegerType()),\n",
    "                StructField(\"positionY\", IntegerType()),\n",
    "                StructField(\"location\", StringType()),\n",
    "                StructField(\"timestamp\", LongType())\n",
    "        ]\n",
    ")\n",
    "\n",
    "session = SparkSession(sc)\n",
    "streaming_df = session \\\n",
    "  .readStream \\\n",
    "  .format(\"kafka\") \\\n",
    "  .option(\"kafka.bootstrap.servers\", kafka_bootstrap_servers) \\\n",
    "  .option(\"key.deserializer\", \"org.apache.kafka.common.serialization.StringDeserializer\") \\\n",
    "  .option(\"value.deserializer\", \"org.apache.kafka.common.serialization.StringDeserializer\") \\\n",
    "  .option(\"failOnDataLoss\",\"False\") \\\n",
    "  .option(\"subscribe\", topic) \\\n",
    "  .load() \\\n",
    "  .withColumn(\"key\", col(\"key\").cast(\"string\")) \\\n",
    "  .withColumn(\"value\", from_json(col(\"value\").cast(\"string\"), schema))\n",
    "streaming_df.printSchema()"
   ]
  },
  {
   "cell_type": "markdown",
   "id": "98f61436-62a5-4b7f-b86b-08996aedf2d9",
   "metadata": {},
   "source": [
    "### 4. Binary 형태인 key, value를 String으로 cast하여 전처리\n",
    "key는 null값을 가지고 있어, 임의로 interger로 cast한 timestamp를 넣어주었다."
   ]
  },
  {
   "cell_type": "code",
   "execution_count": 19,
   "id": "610e6179-0aca-46e7-b52d-2101dc9c1cb2",
   "metadata": {
    "tags": []
   },
   "outputs": [],
   "source": [
    "import time\n",
    "from pyspark.sql.functions import col\n",
    "\n",
    "cassandra_keyspace = \"tagmanager\"\n",
    "cassandra_table = \"stream\"\n",
    "\n",
    "\n",
    "streamming_query = streaming_df.select(\"key\", \"value.*\") \\\n",
    "    .withColumnRenamed(\"serviceToken\", \"service_token\") \\\n",
    "    .withColumnRenamed(\"clientId\", \"client_id\") \\\n",
    "    .withColumnRenamed(\"sessionId\", \"session_id\") \\\n",
    "    .withColumnRenamed(\"serviceId\", \"service_id\") \\\n",
    "    .withColumnRenamed(\"event\", \"event\") \\\n",
    "    .withColumnRenamed(\"targetId\", \"target_id\") \\\n",
    "    .withColumnRenamed(\"positionX\", \"position_x\") \\\n",
    "    .withColumnRenamed(\"positionY\", \"position_y\") \\\n",
    "    .withColumnRenamed(\"location\", \"location\") \\\n",
    "    .withColumnRenamed(\"timestamp\", \"creation_timestamp\")"
   ]
  },
  {
   "cell_type": "code",
   "execution_count": 20,
   "id": "a15cd1f2-7481-4220-9037-4afc70b070ce",
   "metadata": {
    "tags": []
   },
   "outputs": [
    {
     "name": "stdout",
     "output_type": "stream",
     "text": [
      "23/03/22 07:14:32 WARN ResolveWriteToStream: Temporary checkpoint location created which is deleted normally when the query didn't fail: /tmp/temporary-acedd0fa-847d-4995-b84c-856fd7f6326b. If it's required to delete it under any circumstances, please set spark.sql.streaming.forceDeleteTempCheckpointLocation to true. Important to know deleting temp checkpoint folder is best effort.\n",
      "23/03/22 07:14:32 WARN ResolveWriteToStream: spark.sql.adaptive.enabled is not supported in streaming DataFrames/Datasets and will be disabled.\n",
      "-------------------------------------------\n",
      "Batch: 0\n",
      "-------------------------------------------\n",
      "+---+-------------+---------+----------+----------+-----+---------+----------+----------+--------+------------------+\n",
      "|key|service_token|client_id|session_id|service_id|event|target_id|position_x|position_y|location|creation_timestamp|\n",
      "+---+-------------+---------+----------+----------+-----+---------+----------+----------+--------+------------------+\n",
      "+---+-------------+---------+----------+----------+-----+---------+----------+----------+--------+------------------+\n",
      "\n",
      "-------------------------------------------\n",
      "Batch: 1\n",
      "-------------------------------------------\n",
      "+--------------------+--------------------+---------+---------------+----------+---------+------------------+----------+----------+--------------------+------------------+\n",
      "|                 key|       service_token|client_id|     session_id|service_id|    event|         target_id|position_x|position_y|            location|creation_timestamp|\n",
      "+--------------------+--------------------+---------+---------------+----------+---------+------------------+----------+----------+--------------------+------------------+\n",
      "|test-session-id-1...|tag-manager-servi...|        1|test-session-id|         2|    click|button-second-back|       525|       793|http://localhost:...|     1679469274169|\n",
      "|test-session-id-1...|tag-manager-servi...|        1|test-session-id|         2|pageleave|              none|         0|         0|http://localhost:...|     1679469274170|\n",
      "|test-session-id-1...|tag-manager-servi...|        1|test-session-id|         2|pageenter|              none|         0|         0|http://localhost:...|     1679469274170|\n",
      "+--------------------+--------------------+---------+---------------+----------+---------+------------------+----------+----------+--------------------+------------------+\n",
      "\n"
     ]
    },
    {
     "name": "stderr",
     "output_type": "stream",
     "text": [
      "                                                                                \r"
     ]
    },
    {
     "name": "stdout",
     "output_type": "stream",
     "text": [
      "-------------------------------------------\n",
      "Batch: 2\n",
      "-------------------------------------------\n",
      "+--------------------+--------------------+---------+---------------+----------+---------+----------------+----------+----------+--------------------+------------------+\n",
      "|                 key|       service_token|client_id|     session_id|service_id|    event|       target_id|position_x|position_y|            location|creation_timestamp|\n",
      "+--------------------+--------------------+---------+---------------+----------+---------+----------------+----------+----------+--------------------+------------------+\n",
      "|test-session-id-1...|tag-manager-servi...|        1|test-session-id|         2|    click|button-to-second|       486|       727|http://localhost:...|     1679469274750|\n",
      "|test-session-id-1...|tag-manager-servi...|        1|test-session-id|         2|pageleave|            none|         0|         0|http://localhost:...|     1679469274751|\n",
      "|test-session-id-1...|tag-manager-servi...|        1|test-session-id|         2|pageenter|            none|         0|         0|http://localhost:...|     1679469274751|\n",
      "+--------------------+--------------------+---------+---------------+----------+---------+----------------+----------+----------+--------------------+------------------+\n",
      "\n",
      "-------------------------------------------\n",
      "Batch: 3\n",
      "-------------------------------------------\n",
      "+--------------------+--------------------+---------+---------------+----------+-----+------------------+----------+----------+--------------------+------------------+\n",
      "|                 key|       service_token|client_id|     session_id|service_id|event|         target_id|position_x|position_y|            location|creation_timestamp|\n",
      "+--------------------+--------------------+---------+---------------+----------+-----+------------------+----------+----------+--------------------+------------------+\n",
      "|test-session-id-1...|tag-manager-servi...|        1|test-session-id|         2|click|button-second-view|       489|       753|http://localhost:...|     1679469275514|\n",
      "+--------------------+--------------------+---------+---------------+----------+-----+------------------+----------+----------+--------------------+------------------+\n",
      "\n",
      "-------------------------------------------\n",
      "Batch: 4\n",
      "-------------------------------------------\n",
      "+--------------------+--------------------+---------+---------------+----------+---------+------------------+----------+----------+--------------------+------------------+\n",
      "|                 key|       service_token|client_id|     session_id|service_id|    event|         target_id|position_x|position_y|            location|creation_timestamp|\n",
      "+--------------------+--------------------+---------+---------------+----------+---------+------------------+----------+----------+--------------------+------------------+\n",
      "|test-session-id-1...|tag-manager-servi...|        1|test-session-id|         2|    click|button-second-back|       471|       797|http://localhost:...|     1679469275804|\n",
      "|test-session-id-1...|tag-manager-servi...|        1|test-session-id|         2|pageleave|              none|         0|         0|http://localhost:...|     1679469275806|\n",
      "|test-session-id-1...|tag-manager-servi...|        1|test-session-id|         2|pageenter|              none|         0|         0|http://localhost:...|     1679469275806|\n",
      "+--------------------+--------------------+---------+---------------+----------+---------+------------------+----------+----------+--------------------+------------------+\n",
      "\n",
      "-------------------------------------------\n",
      "Batch: 5\n",
      "-------------------------------------------\n",
      "+--------------------+--------------------+---------+---------------+----------+---------+----------------+----------+----------+--------------------+------------------+\n",
      "|                 key|       service_token|client_id|     session_id|service_id|    event|       target_id|position_x|position_y|            location|creation_timestamp|\n",
      "+--------------------+--------------------+---------+---------------+----------+---------+----------------+----------+----------+--------------------+------------------+\n",
      "|test-session-id-1...|tag-manager-servi...|        1|test-session-id|         2|    click|button-to-second|       487|       716|http://localhost:...|     1679469276311|\n",
      "|test-session-id-1...|tag-manager-servi...|        1|test-session-id|         2|pageleave|            none|         0|         0|http://localhost:...|     1679469276312|\n",
      "|test-session-id-1...|tag-manager-servi...|        1|test-session-id|         2|pageenter|            none|         0|         0|http://localhost:...|     1679469276312|\n",
      "+--------------------+--------------------+---------+---------------+----------+---------+----------------+----------+----------+--------------------+------------------+\n",
      "\n",
      "-------------------------------------------\n",
      "Batch: 6\n",
      "-------------------------------------------\n",
      "+--------------------+--------------------+---------+---------------+----------+---------+------------------+----------+----------+--------------------+------------------+\n",
      "|                 key|       service_token|client_id|     session_id|service_id|    event|         target_id|position_x|position_y|            location|creation_timestamp|\n",
      "+--------------------+--------------------+---------+---------------+----------+---------+------------------+----------+----------+--------------------+------------------+\n",
      "|test-session-id-1...|tag-manager-servi...|        1|test-session-id|         2|    click|button-second-back|       475|       816|http://localhost:...|     1679469277141|\n",
      "|test-session-id-1...|tag-manager-servi...|        1|test-session-id|         2|pageleave|              none|         0|         0|http://localhost:...|     1679469277142|\n",
      "|test-session-id-1...|tag-manager-servi...|        1|test-session-id|         2|pageenter|              none|         0|         0|http://localhost:...|     1679469277143|\n",
      "+--------------------+--------------------+---------+---------------+----------+---------+------------------+----------+----------+--------------------+------------------+\n",
      "\n",
      "-------------------------------------------\n",
      "Batch: 7\n",
      "-------------------------------------------\n",
      "+--------------------+--------------------+---------+---------------+----------+---------+---------------+----------+----------+--------------------+------------------+\n",
      "|                 key|       service_token|client_id|     session_id|service_id|    event|      target_id|position_x|position_y|            location|creation_timestamp|\n",
      "+--------------------+--------------------+---------+---------------+----------+---------+---------------+----------+----------+--------------------+------------------+\n",
      "|test-session-id-1...|tag-manager-servi...|        1|test-session-id|         2|    click|button-to-first|       514|       691|http://localhost:...|     1679469277697|\n",
      "|test-session-id-1...|tag-manager-servi...|        1|test-session-id|         2|pageleave|           none|         0|         0|http://localhost:...|     1679469277699|\n",
      "|test-session-id-1...|tag-manager-servi...|        1|test-session-id|         2|pageenter|           none|         0|         0|http://localhost:...|     1679469277699|\n",
      "+--------------------+--------------------+---------+---------------+----------+---------+---------------+----------+----------+--------------------+------------------+\n",
      "\n",
      "-------------------------------------------\n",
      "Batch: 8\n",
      "-------------------------------------------\n",
      "+--------------------+--------------------+---------+---------------+----------+---------+-----------------+----------+----------+--------------------+------------------+\n",
      "|                 key|       service_token|client_id|     session_id|service_id|    event|        target_id|position_x|position_y|            location|creation_timestamp|\n",
      "+--------------------+--------------------+---------+---------------+----------+---------+-----------------+----------+----------+--------------------+------------------+\n",
      "|test-session-id-1...|tag-manager-servi...|        1|test-session-id|         2|    click|button-first-back|       456|       814|http://localhost:...|     1679469279332|\n",
      "|test-session-id-1...|tag-manager-servi...|        1|test-session-id|         2|pageleave|             none|         0|         0|http://localhost:...|     1679469279334|\n",
      "|test-session-id-1...|tag-manager-servi...|        1|test-session-id|         2|pageenter|             none|         0|         0|http://localhost:...|     1679469279334|\n",
      "+--------------------+--------------------+---------+---------------+----------+---------+-----------------+----------+----------+--------------------+------------------+\n",
      "\n",
      "-------------------------------------------\n",
      "Batch: 9\n",
      "-------------------------------------------\n",
      "+--------------------+--------------------+---------+---------------+----------+---------+----------------+----------+----------+--------------------+------------------+\n",
      "|                 key|       service_token|client_id|     session_id|service_id|    event|       target_id|position_x|position_y|            location|creation_timestamp|\n",
      "+--------------------+--------------------+---------+---------------+----------+---------+----------------+----------+----------+--------------------+------------------+\n",
      "|test-session-id-1...|tag-manager-servi...|        1|test-session-id|         2|    click|button-to-second|       508|       725|http://localhost:...|     1679469280166|\n",
      "|test-session-id-1...|tag-manager-servi...|        1|test-session-id|         2|pageleave|            none|         0|         0|http://localhost:...|     1679469280167|\n",
      "|test-session-id-1...|tag-manager-servi...|        1|test-session-id|         2|pageenter|            none|         0|         0|http://localhost:...|     1679469280167|\n",
      "+--------------------+--------------------+---------+---------------+----------+---------+----------------+----------+----------+--------------------+------------------+\n",
      "\n",
      "-------------------------------------------\n",
      "Batch: 10\n",
      "-------------------------------------------\n",
      "+--------------------+--------------------+---------+---------------+----------+---------+------------------+----------+----------+--------------------+------------------+\n",
      "|                 key|       service_token|client_id|     session_id|service_id|    event|         target_id|position_x|position_y|            location|creation_timestamp|\n",
      "+--------------------+--------------------+---------+---------------+----------+---------+------------------+----------+----------+--------------------+------------------+\n",
      "|test-session-id-1...|tag-manager-servi...|        1|test-session-id|         2|    click|button-second-back|       476|       801|http://localhost:...|     1679469280725|\n",
      "|test-session-id-1...|tag-manager-servi...|        1|test-session-id|         2|pageenter|              none|         0|         0|http://localhost:...|     1679469280726|\n",
      "|test-session-id-1...|tag-manager-servi...|        1|test-session-id|         2|pageleave|              none|         0|         0|http://localhost:...|     1679469280726|\n",
      "+--------------------+--------------------+---------+---------------+----------+---------+------------------+----------+----------+--------------------+------------------+\n",
      "\n",
      "-------------------------------------------\n",
      "Batch: 11\n",
      "-------------------------------------------\n",
      "+--------------------+--------------------+---------+---------------+----------+---------+----------------+----------+----------+--------------------+------------------+\n",
      "|                 key|       service_token|client_id|     session_id|service_id|    event|       target_id|position_x|position_y|            location|creation_timestamp|\n",
      "+--------------------+--------------------+---------+---------------+----------+---------+----------------+----------+----------+--------------------+------------------+\n",
      "|test-session-id-1...|tag-manager-servi...|        1|test-session-id|         2|    click|button-to-second|       485|       714|http://localhost:...|     1679469281277|\n",
      "|test-session-id-1...|tag-manager-servi...|        1|test-session-id|         2|pageenter|            none|         0|         0|http://localhost:...|     1679469281279|\n",
      "|test-session-id-1...|tag-manager-servi...|        1|test-session-id|         2|pageleave|            none|         0|         0|http://localhost:...|     1679469281279|\n",
      "+--------------------+--------------------+---------+---------------+----------+---------+----------------+----------+----------+--------------------+------------------+\n",
      "\n"
     ]
    }
   ],
   "source": [
    "query = streamming_query.writeStream.outputMode(\"append\").format(\"console\").start()\n",
    "time.sleep(10)\n",
    "query.stop()"
   ]
  },
  {
   "cell_type": "markdown",
   "id": "5144b321-2d98-445b-a9c6-031eb86ec8fe",
   "metadata": {},
   "source": [
    "### 5. Spark Cassandra Connector를 사용해 Cassandra 연결, Streaming되는 dataframe 출력\n",
    "20초 간 INSERT 후에 자동으로 writeStream 쿼리를 종료한다. Cassandra의 keyspace, table은 그 형태가 미리 정의되어있어야 한다."
   ]
  },
  {
   "cell_type": "code",
   "execution_count": 22,
   "id": "7fe6b9ed-e6f6-43ab-b369-c495478d8ece",
   "metadata": {
    "tags": []
   },
   "outputs": [
    {
     "name": "stdout",
     "output_type": "stream",
     "text": [
      "23/03/22 07:15:22 WARN DeprecatedConfigParameter: spark.cassandra.connection.keep_alive_ms is deprecated (DSE 6.0.0) and has been automatically replaced with parameter spark.cassandra.connection.keepAliveMS. \n",
      "23/03/22 07:15:22 WARN DeprecatedConfigParameter: spark.cassandra.connection.keep_alive_ms is deprecated (DSE 6.0.0) and has been automatically replaced with parameter spark.cassandra.connection.keepAliveMS. \n",
      "23/03/22 07:15:22 WARN ResolveWriteToStream: spark.sql.adaptive.enabled is not supported in streaming DataFrames/Datasets and will be disabled.\n",
      "23/03/22 07:15:22 WARN DeprecatedConfigParameter: spark.cassandra.connection.keep_alive_ms is deprecated (DSE 6.0.0) and has been automatically replaced with parameter spark.cassandra.connection.keepAliveMS. \n",
      "23/03/22 07:15:22 WARN DeprecatedConfigParameter: spark.cassandra.connection.keep_alive_ms is deprecated (DSE 6.0.0) and has been automatically replaced with parameter spark.cassandra.connection.keepAliveMS. \n",
      "23/03/22 07:15:22 WARN DeprecatedConfigParameter: spark.cassandra.connection.keep_alive_ms is deprecated (DSE 6.0.0) and has been automatically replaced with parameter spark.cassandra.connection.keepAliveMS. \n",
      "23/03/22 07:15:23 WARN DeprecatedConfigParameter: spark.cassandra.connection.keep_alive_ms is deprecated (DSE 6.0.0) and has been automatically replaced with parameter spark.cassandra.connection.keepAliveMS. \n",
      "23/03/22 07:15:23 WARN DeprecatedConfigParameter: spark.cassandra.connection.keep_alive_ms is deprecated (DSE 6.0.0) and has been automatically replaced with parameter spark.cassandra.connection.keepAliveMS. \n",
      "23/03/22 07:15:23 WARN DeprecatedConfigParameter: spark.cassandra.connection.keep_alive_ms is deprecated (DSE 6.0.0) and has been automatically replaced with parameter spark.cassandra.connection.keepAliveMS. \n"
     ]
    },
    {
     "name": "stderr",
     "output_type": "stream",
     "text": [
      "                                                                                \r"
     ]
    },
    {
     "name": "stdout",
     "output_type": "stream",
     "text": [
      "23/03/22 07:15:25 WARN DeprecatedConfigParameter: spark.cassandra.connection.keep_alive_ms is deprecated (DSE 6.0.0) and has been automatically replaced with parameter spark.cassandra.connection.keepAliveMS. \n",
      "23/03/22 07:15:25 WARN DeprecatedConfigParameter: spark.cassandra.connection.keep_alive_ms is deprecated (DSE 6.0.0) and has been automatically replaced with parameter spark.cassandra.connection.keepAliveMS. \n",
      "23/03/22 07:15:25 WARN DeprecatedConfigParameter: spark.cassandra.connection.keep_alive_ms is deprecated (DSE 6.0.0) and has been automatically replaced with parameter spark.cassandra.connection.keepAliveMS. \n",
      "23/03/22 07:15:26 WARN DeprecatedConfigParameter: spark.cassandra.connection.keep_alive_ms is deprecated (DSE 6.0.0) and has been automatically replaced with parameter spark.cassandra.connection.keepAliveMS. \n",
      "23/03/22 07:15:26 WARN DeprecatedConfigParameter: spark.cassandra.connection.keep_alive_ms is deprecated (DSE 6.0.0) and has been automatically replaced with parameter spark.cassandra.connection.keepAliveMS. \n",
      "23/03/22 07:15:26 WARN DeprecatedConfigParameter: spark.cassandra.connection.keep_alive_ms is deprecated (DSE 6.0.0) and has been automatically replaced with parameter spark.cassandra.connection.keepAliveMS. \n"
     ]
    },
    {
     "name": "stderr",
     "output_type": "stream",
     "text": [
      "                                                                                \r"
     ]
    },
    {
     "name": "stdout",
     "output_type": "stream",
     "text": [
      "23/03/22 07:15:27 WARN DeprecatedConfigParameter: spark.cassandra.connection.keep_alive_ms is deprecated (DSE 6.0.0) and has been automatically replaced with parameter spark.cassandra.connection.keepAliveMS. \n",
      "23/03/22 07:15:27 WARN DeprecatedConfigParameter: spark.cassandra.connection.keep_alive_ms is deprecated (DSE 6.0.0) and has been automatically replaced with parameter spark.cassandra.connection.keepAliveMS. \n",
      "23/03/22 07:15:27 WARN DeprecatedConfigParameter: spark.cassandra.connection.keep_alive_ms is deprecated (DSE 6.0.0) and has been automatically replaced with parameter spark.cassandra.connection.keepAliveMS. \n",
      "23/03/22 07:15:27 WARN DeprecatedConfigParameter: spark.cassandra.connection.keep_alive_ms is deprecated (DSE 6.0.0) and has been automatically replaced with parameter spark.cassandra.connection.keepAliveMS. \n",
      "23/03/22 07:15:27 WARN DeprecatedConfigParameter: spark.cassandra.connection.keep_alive_ms is deprecated (DSE 6.0.0) and has been automatically replaced with parameter spark.cassandra.connection.keepAliveMS. \n",
      "23/03/22 07:15:27 WARN DeprecatedConfigParameter: spark.cassandra.connection.keep_alive_ms is deprecated (DSE 6.0.0) and has been automatically replaced with parameter spark.cassandra.connection.keepAliveMS. \n",
      "23/03/22 07:15:28 WARN DeprecatedConfigParameter: spark.cassandra.connection.keep_alive_ms is deprecated (DSE 6.0.0) and has been automatically replaced with parameter spark.cassandra.connection.keepAliveMS. \n",
      "23/03/22 07:15:28 WARN DeprecatedConfigParameter: spark.cassandra.connection.keep_alive_ms is deprecated (DSE 6.0.0) and has been automatically replaced with parameter spark.cassandra.connection.keepAliveMS. \n",
      "23/03/22 07:15:28 WARN DeprecatedConfigParameter: spark.cassandra.connection.keep_alive_ms is deprecated (DSE 6.0.0) and has been automatically replaced with parameter spark.cassandra.connection.keepAliveMS. \n",
      "23/03/22 07:15:28 WARN DeprecatedConfigParameter: spark.cassandra.connection.keep_alive_ms is deprecated (DSE 6.0.0) and has been automatically replaced with parameter spark.cassandra.connection.keepAliveMS. \n",
      "23/03/22 07:15:28 WARN DeprecatedConfigParameter: spark.cassandra.connection.keep_alive_ms is deprecated (DSE 6.0.0) and has been automatically replaced with parameter spark.cassandra.connection.keepAliveMS. \n",
      "23/03/22 07:15:28 WARN DeprecatedConfigParameter: spark.cassandra.connection.keep_alive_ms is deprecated (DSE 6.0.0) and has been automatically replaced with parameter spark.cassandra.connection.keepAliveMS. \n",
      "23/03/22 07:15:29 WARN DeprecatedConfigParameter: spark.cassandra.connection.keep_alive_ms is deprecated (DSE 6.0.0) and has been automatically replaced with parameter spark.cassandra.connection.keepAliveMS. \n",
      "23/03/22 07:15:29 WARN DeprecatedConfigParameter: spark.cassandra.connection.keep_alive_ms is deprecated (DSE 6.0.0) and has been automatically replaced with parameter spark.cassandra.connection.keepAliveMS. \n",
      "23/03/22 07:15:29 WARN DeprecatedConfigParameter: spark.cassandra.connection.keep_alive_ms is deprecated (DSE 6.0.0) and has been automatically replaced with parameter spark.cassandra.connection.keepAliveMS. \n",
      "23/03/22 07:15:29 WARN DeprecatedConfigParameter: spark.cassandra.connection.keep_alive_ms is deprecated (DSE 6.0.0) and has been automatically replaced with parameter spark.cassandra.connection.keepAliveMS. \n",
      "23/03/22 07:15:29 WARN DeprecatedConfigParameter: spark.cassandra.connection.keep_alive_ms is deprecated (DSE 6.0.0) and has been automatically replaced with parameter spark.cassandra.connection.keepAliveMS. \n",
      "23/03/22 07:15:29 WARN DeprecatedConfigParameter: spark.cassandra.connection.keep_alive_ms is deprecated (DSE 6.0.0) and has been automatically replaced with parameter spark.cassandra.connection.keepAliveMS. \n",
      "23/03/22 07:15:30 WARN DeprecatedConfigParameter: spark.cassandra.connection.keep_alive_ms is deprecated (DSE 6.0.0) and has been automatically replaced with parameter spark.cassandra.connection.keepAliveMS. \n",
      "23/03/22 07:15:30 WARN DeprecatedConfigParameter: spark.cassandra.connection.keep_alive_ms is deprecated (DSE 6.0.0) and has been automatically replaced with parameter spark.cassandra.connection.keepAliveMS. \n",
      "23/03/22 07:15:30 WARN DeprecatedConfigParameter: spark.cassandra.connection.keep_alive_ms is deprecated (DSE 6.0.0) and has been automatically replaced with parameter spark.cassandra.connection.keepAliveMS. \n",
      "23/03/22 07:15:30 WARN DeprecatedConfigParameter: spark.cassandra.connection.keep_alive_ms is deprecated (DSE 6.0.0) and has been automatically replaced with parameter spark.cassandra.connection.keepAliveMS. \n",
      "23/03/22 07:15:30 WARN DeprecatedConfigParameter: spark.cassandra.connection.keep_alive_ms is deprecated (DSE 6.0.0) and has been automatically replaced with parameter spark.cassandra.connection.keepAliveMS. \n",
      "23/03/22 07:15:30 WARN DeprecatedConfigParameter: spark.cassandra.connection.keep_alive_ms is deprecated (DSE 6.0.0) and has been automatically replaced with parameter spark.cassandra.connection.keepAliveMS. \n",
      "23/03/22 07:15:32 WARN DeprecatedConfigParameter: spark.cassandra.connection.keep_alive_ms is deprecated (DSE 6.0.0) and has been automatically replaced with parameter spark.cassandra.connection.keepAliveMS. \n",
      "23/03/22 07:15:32 WARN DeprecatedConfigParameter: spark.cassandra.connection.keep_alive_ms is deprecated (DSE 6.0.0) and has been automatically replaced with parameter spark.cassandra.connection.keepAliveMS. \n",
      "23/03/22 07:15:32 WARN DeprecatedConfigParameter: spark.cassandra.connection.keep_alive_ms is deprecated (DSE 6.0.0) and has been automatically replaced with parameter spark.cassandra.connection.keepAliveMS. \n",
      "23/03/22 07:15:32 ERROR WriteToDataSourceV2Exec: Data source write support org.apache.spark.sql.execution.streaming.sources.MicroBatchWrite@1c28b79 is aborting.\n",
      "23/03/22 07:15:32 ERROR WriteToDataSourceV2Exec: Data source write support org.apache.spark.sql.execution.streaming.sources.MicroBatchWrite@1c28b79 aborted.\n",
      "23/03/22 07:15:32 WARN TaskSetManager: Lost task 0.0 in stage 57.0 (TID 57) (slave02 executor 1): TaskKilled (Stage cancelled)\n"
     ]
    }
   ],
   "source": [
    "# query = streamming_query.writeStream.format(\"console\").start()\n",
    "\n",
    "query = streamming_query.writeStream.outputMode(\"append\") \\\n",
    "      .format(\"org.apache.spark.sql.cassandra\") \\\n",
    "  .option(\"checkpointLocation\", \"/\") \\\n",
    "  .option(\"spark.cassandra.connection.host\", \"master01\") \\\n",
    "  .option(\"spark.cassandra.connection.port\", 9042) \\\n",
    "  .option(\"keyspace\", cassandra_keyspace) \\\n",
    "  .option(\"table\", cassandra_table) \\\n",
    "  .option(\"spark.cassandra.connection.remoteConnectionsPerExecutor\", 10) \\\n",
    "  .option(\"spark.cassandra.output.concurrent.writes\", 1000) \\\n",
    "  .option(\"spark.cassandra.concurrent.reads\", 512) \\\n",
    "  .option(\"spark.cassandra.output.batch.grouping.buffer.size\", 1000) \\\n",
    "  .option(\"spark.cassandra.connection.keep_alive_ms\", 600000000) \\\n",
    "      .start()\n",
    "\n",
    "time.sleep(10)\n",
    "query.stop()"
   ]
  },
  {
   "cell_type": "markdown",
   "id": "d5a134f7-bf0b-4f44-9dd5-85caa0a8d7bb",
   "metadata": {},
   "source": [
    "### 6. Session과 Context 종료"
   ]
  },
  {
   "cell_type": "code",
   "execution_count": 1,
   "id": "12a54255-3641-4378-8e56-4c22fcf8cfc2",
   "metadata": {
    "tags": []
   },
   "outputs": [
    {
     "ename": "NameError",
     "evalue": "name 'sc' is not defined",
     "output_type": "error",
     "traceback": [
      "\u001b[0;31m---------------------------------------------------------------------------\u001b[0m",
      "\u001b[0;31mNameError\u001b[0m                                 Traceback (most recent call last)",
      "Cell \u001b[0;32mIn[2], line 1\u001b[0m\n\u001b[0;32m----> 1\u001b[0m \u001b[43msc\u001b[49m\u001b[38;5;241m.\u001b[39mstop()\n",
      "\u001b[0;31mNameError\u001b[0m: name 'sc' is not defined"
     ]
    }
   ],
   "source": [
    "session.stop()\n",
    "sc.stop()"
   ]
  }
 ],
 "metadata": {
  "kernelspec": {
   "display_name": "Python 3 (ipykernel)",
   "language": "python",
   "name": "python3"
  },
  "language_info": {
   "codemirror_mode": {
    "name": "ipython",
    "version": 3
   },
   "file_extension": ".py",
   "mimetype": "text/x-python",
   "name": "python",
   "nbconvert_exporter": "python",
   "pygments_lexer": "ipython3",
   "version": "3.9.5"
  }
 },
 "nbformat": 4,
 "nbformat_minor": 5
}

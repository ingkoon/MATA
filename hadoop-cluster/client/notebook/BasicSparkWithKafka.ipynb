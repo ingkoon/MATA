{
 "cells": [
  {
   "cell_type": "markdown",
   "id": "42da6111-9693-4d53-9647-5537ff163e62",
   "metadata": {},
   "source": [
    "# Kafka Streaming + PySpark 예제\n",
    "\n",
    "### 1. findspark를 통해 pyspark 등 라이브러리 추가"
   ]
  },
  {
   "cell_type": "code",
   "execution_count": 1,
   "id": "8d91074e-e4d9-4bd8-8590-56337fef5355",
   "metadata": {
    "tags": []
   },
   "outputs": [],
   "source": [
    "import findspark\n",
    "findspark.init(\"/usr/local/lib/spark-3.3.2-bin-hadoop3\")"
   ]
  },
  {
   "cell_type": "markdown",
   "id": "7e47d04a-ff82-4cbe-86c1-826f9042c3e3",
   "metadata": {},
   "source": [
    "### 2. 동작하고있는 Kafka 서버와 Topic을 정의"
   ]
  },
  {
   "cell_type": "code",
   "execution_count": 27,
   "id": "31bf0d0d-72df-41a4-ab71-fe4c736b91ac",
   "metadata": {
    "tags": []
   },
   "outputs": [],
   "source": [
    "from pyspark import SparkConf\n",
    "from pyspark.sql.functions import *\n",
    "from pyspark.sql.types import *\n",
    "from pyspark.sql import *\n",
    "from pyspark.sql.functions import udf\n",
    "from pyspark.sql.functions import col, pandas_udf, split\n",
    "\n",
    "kafka_bootstrap_servers = 'master01:9092,master02:9092,slave01:9092,slave02:9092,slave03:9092'\n",
    "topic = 'tagmanager'"
   ]
  },
  {
   "cell_type": "markdown",
   "id": "5040f3d6-69fe-427a-b2dd-b223cce55fb2",
   "metadata": {},
   "source": [
    "### 3. SparkConf를 통해 configuration 추가하고, SparkContext 생성\n",
    "spark.jars.packages 옵션을 통해 Maven Repository에서 특절 Group,Artifact, Version의 Jar 파일을 가져올 수 있다. \\<groupId>:\\<artifactID>:\\<version>의 형식으로 값을 넘겨줄 수 있으며, Spark는 받은 jar 파일을 자동으로 HDFS에 넘겨주어 의존성을 추가한다. 이 예제에선 org.apache.spark:spark-sql-kafka-0-10_2.12:3.3.2 패키지를 통해 Spark와 Kafka를 연동한다."
   ]
  },
  {
   "cell_type": "code",
   "execution_count": 28,
   "id": "0e596308-616b-41ae-bfd5-bd78fe1eb6bd",
   "metadata": {
    "tags": []
   },
   "outputs": [
    {
     "data": {
      "text/plain": [
       "<bound method SparkContext.stop of <SparkContext master=yarn appName=Jupyter_Notebook>>"
      ]
     },
     "execution_count": 28,
     "metadata": {},
     "output_type": "execute_result"
    }
   ],
   "source": [
    "sc.stop"
   ]
  },
  {
   "cell_type": "code",
   "execution_count": 31,
   "id": "15d5ee6f-0b60-488b-984d-ed13f7322b6b",
   "metadata": {
    "tags": []
   },
   "outputs": [
    {
     "name": "stdout",
     "output_type": "stream",
     "text": [
      "23/03/21 16:19:29 WARN Client: Neither spark.yarn.jars nor spark.yarn.archive is set, falling back to uploading libraries under SPARK_HOME.\n",
      "23/03/21 16:19:34 WARN Client: Same path resource file:///root/.ivy2/jars/org.apache.spark_spark-sql-kafka-0-10_2.12-3.3.2.jar added multiple times to distributed cache.\n",
      "23/03/21 16:19:34 WARN Client: Same path resource file:///root/.ivy2/jars/org.apache.spark_spark-token-provider-kafka-0-10_2.12-3.3.2.jar added multiple times to distributed cache.\n",
      "23/03/21 16:19:34 WARN Client: Same path resource file:///root/.ivy2/jars/org.apache.kafka_kafka-clients-2.8.1.jar added multiple times to distributed cache.\n",
      "23/03/21 16:19:34 WARN Client: Same path resource file:///root/.ivy2/jars/com.google.code.findbugs_jsr305-3.0.0.jar added multiple times to distributed cache.\n",
      "23/03/21 16:19:34 WARN Client: Same path resource file:///root/.ivy2/jars/org.apache.commons_commons-pool2-2.11.1.jar added multiple times to distributed cache.\n",
      "23/03/21 16:19:34 WARN Client: Same path resource file:///root/.ivy2/jars/org.spark-project.spark_unused-1.0.0.jar added multiple times to distributed cache.\n",
      "23/03/21 16:19:34 WARN Client: Same path resource file:///root/.ivy2/jars/org.apache.hadoop_hadoop-client-runtime-3.3.2.jar added multiple times to distributed cache.\n",
      "23/03/21 16:19:34 WARN Client: Same path resource file:///root/.ivy2/jars/org.lz4_lz4-java-1.8.0.jar added multiple times to distributed cache.\n",
      "23/03/21 16:19:34 WARN Client: Same path resource file:///root/.ivy2/jars/org.xerial.snappy_snappy-java-1.1.8.4.jar added multiple times to distributed cache.\n",
      "23/03/21 16:19:34 WARN Client: Same path resource file:///root/.ivy2/jars/org.slf4j_slf4j-api-1.7.32.jar added multiple times to distributed cache.\n",
      "23/03/21 16:19:34 WARN Client: Same path resource file:///root/.ivy2/jars/org.apache.hadoop_hadoop-client-api-3.3.2.jar added multiple times to distributed cache.\n",
      "23/03/21 16:19:34 WARN Client: Same path resource file:///root/.ivy2/jars/commons-logging_commons-logging-1.1.3.jar added multiple times to distributed cache.\n"
     ]
    }
   ],
   "source": [
    "sconf = SparkConf()\n",
    "sconf.setAppName(\"Jupyter_Notebook\").set(\"spark.jars.packages\", \"org.apache.spark:spark-sql-kafka-0-10_2.12:3.3.2\")\n",
    "\n",
    "sc = SparkContext(conf=sconf)"
   ]
  },
  {
   "cell_type": "markdown",
   "id": "b5bc7419-fc36-4ccb-bb9e-7e0b547343a9",
   "metadata": {},
   "source": [
    "### 4. SparkSession을 Kafka 세션으로 정의, readStream-load를 통해 스트리밍 세션으로 연동"
   ]
  },
  {
   "cell_type": "code",
   "execution_count": 21,
   "id": "c60b51e8-0847-4d65-aefc-8763b6cd587b",
   "metadata": {
    "tags": []
   },
   "outputs": [
    {
     "name": "stdout",
     "output_type": "stream",
     "text": [
      "root\n",
      " |-- key: binary (nullable = true)\n",
      " |-- value: binary (nullable = true)\n",
      " |-- topic: string (nullable = true)\n",
      " |-- partition: integer (nullable = true)\n",
      " |-- offset: long (nullable = true)\n",
      " |-- timestamp: timestamp (nullable = true)\n",
      " |-- timestampType: integer (nullable = true)\n",
      "\n"
     ]
    }
   ],
   "source": [
    "session = SparkSession(sc)\n",
    "streamming_df = session \\\n",
    "  .readStream \\\n",
    "  .format(\"kafka\") \\\n",
    "  .option(\"kafka.bootstrap.servers\", kafka_bootstrap_servers) \\\n",
    "  .option(\"failOnDataLoss\",\"False\") \\\n",
    "  .option(\"subscribe\", topic) \\\n",
    "  .load()\n",
    "streamming_df.printSchema()"
   ]
  },
  {
   "cell_type": "code",
   "execution_count": 33,
   "id": "266061d6-86d2-47e0-bf90-0f6bcf10f9d6",
   "metadata": {
    "tags": []
   },
   "outputs": [
    {
     "name": "stdout",
     "output_type": "stream",
     "text": [
      "root\n",
      " |-- key: string (nullable = true)\n",
      " |-- value: struct (nullable = true)\n",
      " |    |-- serviceToken: string (nullable = true)\n",
      " |    |-- clientId: long (nullable = true)\n",
      " |    |-- sessionId: string (nullable = true)\n",
      " |    |-- event: string (nullable = true)\n",
      " |    |-- targetId: string (nullable = true)\n",
      " |    |-- positionX: integer (nullable = true)\n",
      " |    |-- positionY: integer (nullable = true)\n",
      " |    |-- location: string (nullable = true)\n",
      " |    |-- timestamp: long (nullable = true)\n",
      " |-- topic: string (nullable = true)\n",
      " |-- partition: integer (nullable = true)\n",
      " |-- offset: long (nullable = true)\n",
      " |-- timestamp: timestamp (nullable = true)\n",
      " |-- timestampType: integer (nullable = true)\n",
      "\n"
     ]
    }
   ],
   "source": [
    "schema = StructType(\n",
    "        [\n",
    "                StructField(\"serviceToken\", StringType()),\n",
    "                StructField(\"clientId\", LongType()),\n",
    "                StructField(\"sessionId\", StringType()),\n",
    "                StructField(\"event\", StringType()),\n",
    "                StructField(\"targetId\", StringType()),\n",
    "                StructField(\"positionX\", IntegerType()),\n",
    "                StructField(\"positionY\", IntegerType()),\n",
    "                StructField(\"location\", StringType()),\n",
    "                StructField(\"timestamp\", LongType())\n",
    "        ]\n",
    ")\n",
    "\n",
    "session = SparkSession(sc)\n",
    "\n",
    "streaming_df = session \\\n",
    "  .readStream \\\n",
    "  .format(\"kafka\") \\\n",
    "  .option(\"kafka.bootstrap.servers\", kafka_bootstrap_servers) \\\n",
    "  .option(\"key.deserializer\", \"org.apache.kafka.common.serialization.StringDeserializer\") \\\n",
    "  .option(\"value.deserializer\", \"org.apache.kafka.common.serialization.StringDeserializer\") \\\n",
    "  .option(\"failOnDataLoss\",\"False\") \\\n",
    "  .option(\"subscribe\", topic) \\\n",
    "  .load() \\\n",
    "  .withColumn(\"key\", col(\"key\").cast(\"string\")) \\\n",
    "  .withColumn(\"value\", from_json(col(\"value\").cast(\"string\"), schema))\n",
    "streaming_df.printSchema()"
   ]
  },
  {
   "cell_type": "markdown",
   "id": "98f61436-62a5-4b7f-b86b-08996aedf2d9",
   "metadata": {},
   "source": [
    "### 5. timestamp 컬럼에서 밀리초 단위 제거, 초 단위 그룹핑, 20초동안 콘솔로 스트림 출력"
   ]
  },
  {
   "cell_type": "code",
   "execution_count": 35,
   "id": "141bb02d-9c5e-4009-aced-ae0de22cdf28",
   "metadata": {
    "tags": []
   },
   "outputs": [],
   "source": [
    "import time\n",
    "from pyspark.sql.functions import col\n",
    "\n",
    "cassandra_keyspace = \"tagmanager\"\n",
    "cassandra_table = \"stream\"\n",
    "\n",
    "\n",
    "streamming_query = streaming_df.select(\"key\", \"value.*\") \\\n",
    "    .withColumnRenamed(\"serviceToken\", \"service_token\") \\\n",
    "    .withColumnRenamed(\"clientId\", \"client_id\") \\\n",
    "    .withColumnRenamed(\"sessionId\", \"session_id\") \\\n",
    "    .withColumnRenamed(\"event\", \"event\") \\\n",
    "    .withColumnRenamed(\"targetId\", \"target_id\") \\\n",
    "    .withColumnRenamed(\"positionX\", \"position_x\") \\\n",
    "    .withColumnRenamed(\"location\", \"location\") \\\n",
    "    .withColumnRenamed(\"timestamp\", \"creation_timestamp\")"
   ]
  },
  {
   "cell_type": "code",
   "execution_count": 37,
   "id": "b208fff0-bf37-4314-b92a-d188569af860",
   "metadata": {
    "tags": []
   },
   "outputs": [
    {
     "name": "stdout",
     "output_type": "stream",
     "text": [
      "23/03/21 16:31:55 WARN ResolveWriteToStream: Temporary checkpoint location created which is deleted normally when the query didn't fail: /tmp/temporary-6e458655-5275-4320-a3e3-6433ed5ea884. If it's required to delete it under any circumstances, please set spark.sql.streaming.forceDeleteTempCheckpointLocation to true. Important to know deleting temp checkpoint folder is best effort.\n",
      "23/03/21 16:31:55 WARN ResolveWriteToStream: spark.sql.adaptive.enabled is not supported in streaming DataFrames/Datasets and will be disabled.\n",
      "-------------------------------------------\n",
      "Batch: 0\n",
      "-------------------------------------------\n",
      "+---+-------------+---------+----------+-----+---------+----------+---------+--------+------------------+\n",
      "|key|service_token|client_id|session_id|event|target_id|position_x|positionY|location|creation_timestamp|\n",
      "+---+-------------+---------+----------+-----+---------+----------+---------+--------+------------------+\n",
      "+---+-------------+---------+----------+-----+---------+----------+---------+--------+------------------+\n",
      "\n"
     ]
    },
    {
     "name": "stderr",
     "output_type": "stream",
     "text": [
      "                                                                                \r"
     ]
    },
    {
     "name": "stdout",
     "output_type": "stream",
     "text": [
      "-------------------------------------------\n",
      "Batch: 1\n",
      "-------------------------------------------\n",
      "+--------------------+--------------------+---------+---------------+---------+---------------+----------+---------+--------------------+------------------+\n",
      "|                 key|       service_token|client_id|     session_id|    event|      target_id|position_x|positionY|            location|creation_timestamp|\n",
      "+--------------------+--------------------+---------+---------------+---------+---------------+----------+---------+--------------------+------------------+\n",
      "|test-session-id-1...|tag-manager-servi...|        1|test-session-id|    click|button-to-first|       925|      731|http://localhost:...|     1679416319472|\n",
      "|test-session-id-1...|tag-manager-servi...|        1|test-session-id|pageenter|           none|         0|        0|http://localhost:...|     1679416319474|\n",
      "|test-session-id-1...|tag-manager-servi...|        1|test-session-id|pageleave|           none|         0|        0|http://localhost:...|     1679416319474|\n",
      "+--------------------+--------------------+---------+---------------+---------+---------------+----------+---------+--------------------+------------------+\n",
      "\n"
     ]
    },
    {
     "name": "stderr",
     "output_type": "stream",
     "text": [
      "                                                                                \r"
     ]
    },
    {
     "name": "stdout",
     "output_type": "stream",
     "text": [
      "-------------------------------------------\n",
      "Batch: 2\n",
      "-------------------------------------------\n",
      "+--------------------+--------------------+---------+---------------+---------+-----------------+----------+---------+--------------------+------------------+\n",
      "|                 key|       service_token|client_id|     session_id|    event|        target_id|position_x|positionY|            location|creation_timestamp|\n",
      "+--------------------+--------------------+---------+---------------+---------+-----------------+----------+---------+--------------------+------------------+\n",
      "|test-session-id-1...|tag-manager-servi...|        1|test-session-id|    click|button-first-back|       920|      819|http://localhost:...|     1679416320898|\n",
      "|test-session-id-1...|tag-manager-servi...|        1|test-session-id|pageleave|             none|         0|        0|http://localhost:...|     1679416320900|\n",
      "|test-session-id-1...|tag-manager-servi...|        1|test-session-id|pageenter|             none|         0|        0|http://localhost:...|     1679416320901|\n",
      "|test-session-id-1...|tag-manager-servi...|        1|test-session-id|    click| button-to-second|       923|      769|http://localhost:...|     1679416321537|\n",
      "|test-session-id-1...|tag-manager-servi...|        1|test-session-id|pageleave|             none|         0|        0|http://localhost:...|     1679416321539|\n",
      "|test-session-id-1...|tag-manager-servi...|        1|test-session-id|pageenter|             none|         0|        0|http://localhost:...|     1679416321539|\n",
      "+--------------------+--------------------+---------+---------------+---------+-----------------+----------+---------+--------------------+------------------+\n",
      "\n",
      "-------------------------------------------\n",
      "Batch: 3\n",
      "-------------------------------------------\n",
      "+--------------------+--------------------+---------+---------------+---------+------------------+----------+---------+--------------------+------------------+\n",
      "|                 key|       service_token|client_id|     session_id|    event|         target_id|position_x|positionY|            location|creation_timestamp|\n",
      "+--------------------+--------------------+---------+---------------+---------+------------------+----------+---------+--------------------+------------------+\n",
      "|test-session-id-1...|tag-manager-servi...|        1|test-session-id|    click|button-second-view|       908|      762|http://localhost:...|     1679416322064|\n",
      "|test-session-id-1...|tag-manager-servi...|        1|test-session-id|    click|button-second-view|       908|      762|http://localhost:...|     1679416322231|\n",
      "|test-session-id-1...|tag-manager-servi...|        1|test-session-id|    click|button-second-view|       908|      762|http://localhost:...|     1679416322400|\n",
      "|test-session-id-1...|tag-manager-servi...|        1|test-session-id|    click|button-second-view|       908|      762|http://localhost:...|     1679416322545|\n",
      "|test-session-id-1...|tag-manager-servi...|        1|test-session-id|    click|button-second-back|       913|      845|http://localhost:...|     1679416323054|\n",
      "|test-session-id-1...|tag-manager-servi...|        1|test-session-id|pageleave|              none|         0|        0|http://localhost:...|     1679416323055|\n",
      "|test-session-id-1...|tag-manager-servi...|        1|test-session-id|pageenter|              none|         0|        0|http://localhost:...|     1679416323056|\n",
      "+--------------------+--------------------+---------+---------------+---------+------------------+----------+---------+--------------------+------------------+\n",
      "\n"
     ]
    }
   ],
   "source": [
    "query = streamming_query.writeStream.format(\"console\").outputMode(\"append\").start()\n",
    "time.sleep(10)\n",
    "query.stop()"
   ]
  },
  {
   "cell_type": "code",
   "execution_count": 26,
   "id": "610e6179-0aca-46e7-b52d-2101dc9c1cb2",
   "metadata": {
    "tags": []
   },
   "outputs": [
    {
     "name": "stdout",
     "output_type": "stream",
     "text": [
      "23/03/21 15:42:48 WARN ResolveWriteToStream: Temporary checkpoint location created which is deleted normally when the query didn't fail: /tmp/temporary-fd32a4d9-0f69-4a49-ac87-3b1616b5db1e. If it's required to delete it under any circumstances, please set spark.sql.streaming.forceDeleteTempCheckpointLocation to true. Important to know deleting temp checkpoint folder is best effort.\n",
      "23/03/21 15:42:48 WARN ResolveWriteToStream: spark.sql.adaptive.enabled is not supported in streaming DataFrames/Datasets and will be disabled.\n"
     ]
    },
    {
     "name": "stderr",
     "output_type": "stream",
     "text": [
      "                                                                                \r"
     ]
    },
    {
     "name": "stdout",
     "output_type": "stream",
     "text": [
      "-------------------------------------------\n",
      "Batch: 0\n",
      "-------------------------------------------\n",
      "+-------------+-----+\n",
      "|timestamp_sec|count|\n",
      "+-------------+-----+\n",
      "+-------------+-----+\n",
      "\n"
     ]
    },
    {
     "name": "stderr",
     "output_type": "stream",
     "text": [
      "                                                                                \r"
     ]
    },
    {
     "name": "stdout",
     "output_type": "stream",
     "text": [
      "-------------------------------------------\n",
      "Batch: 1\n",
      "-------------------------------------------\n",
      "+-------------+-----+\n",
      "|timestamp_sec|count|\n",
      "+-------------+-----+\n",
      "|     15:42:58|    2|\n",
      "|     15:42:53|    3|\n",
      "|     15:42:51|    2|\n",
      "|     15:42:54|    3|\n",
      "|     15:42:57|    5|\n",
      "|     15:42:55|    6|\n",
      "|     15:42:52|    4|\n",
      "+-------------+-----+\n",
      "\n"
     ]
    },
    {
     "name": "stderr",
     "output_type": "stream",
     "text": [
      "[Stage 15:=========>                                             (34 + 2) / 200]\r"
     ]
    },
    {
     "name": "stdout",
     "output_type": "stream",
     "text": [
      "23/03/21 15:43:09 ERROR WriteToDataSourceV2Exec: Data source write support org.apache.spark.sql.execution.streaming.sources.MicroBatchWrite@784ebba1 is aborting.\n",
      "23/03/21 15:43:09 ERROR WriteToDataSourceV2Exec: Data source write support org.apache.spark.sql.execution.streaming.sources.MicroBatchWrite@784ebba1 aborted.\n",
      "23/03/21 15:43:09 WARN TaskSetManager: Lost task 44.0 in stage 15.0 (TID 1252) (slave03 executor 2): TaskKilled (Stage cancelled)\n"
     ]
    },
    {
     "name": "stderr",
     "output_type": "stream",
     "text": [
      "[Stage 15:===========>                                           (40 + 2) / 200]\r"
     ]
    },
    {
     "name": "stdout",
     "output_type": "stream",
     "text": [
      "23/03/21 16:01:36 ERROR YarnClientSchedulerBackend: YARN application has exited unexpectedly with state KILLED! Check the YARN application logs for more details.\n",
      "23/03/21 16:01:36 ERROR YarnClientSchedulerBackend: Diagnostics message: Application application_1679405241026_0006 was killed by user root at 172.16.238.2\n"
     ]
    }
   ],
   "source": [
    "import time\n",
    "\n",
    "streamming_query = streamming_df.withColumn(\"timestamp_sec\", col(\"timestamp\").cast(\"string\").substr(12, 8)).groupby(\"timestamp_sec\").count()\n",
    "#print(streamming_query)\n",
    "query = streamming_query.writeStream.format(\"console\").outputMode(\"complete\").start()\n",
    "#print(query)\n",
    "\n",
    "time.sleep(20)\n",
    "query.stop()"
   ]
  },
  {
   "cell_type": "code",
   "execution_count": null,
   "id": "b6c71724-6ca3-4bbe-8184-24495626c4ff",
   "metadata": {},
   "outputs": [],
   "source": []
  },
  {
   "cell_type": "markdown",
   "id": "d5a134f7-bf0b-4f44-9dd5-85caa0a8d7bb",
   "metadata": {},
   "source": [
    "### 6. Session과 Context 종료"
   ]
  },
  {
   "cell_type": "code",
   "execution_count": 38,
   "id": "12a54255-3641-4378-8e56-4c22fcf8cfc2",
   "metadata": {
    "tags": []
   },
   "outputs": [],
   "source": [
    "session.stop()\n",
    "sc.stop()"
   ]
  }
 ],
 "metadata": {
  "kernelspec": {
   "display_name": "Python 3 (ipykernel)",
   "language": "python",
   "name": "python3"
  },
  "language_info": {
   "codemirror_mode": {
    "name": "ipython",
    "version": 3
   },
   "file_extension": ".py",
   "mimetype": "text/x-python",
   "name": "python",
   "nbconvert_exporter": "python",
   "pygments_lexer": "ipython3",
   "version": "3.9.5"
  }
 },
 "nbformat": 4,
 "nbformat_minor": 5
}

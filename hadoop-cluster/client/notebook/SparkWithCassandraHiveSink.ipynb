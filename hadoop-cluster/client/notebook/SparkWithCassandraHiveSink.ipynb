{
 "cells": [
  {
   "cell_type": "markdown",
   "id": "52a25db9-d8cc-4edf-968d-dc342da7b745",
   "metadata": {
    "tags": []
   },
   "source": [
    "# Cassandra + PySpark Batching 예제\n",
    "\n",
    "### 1. findspark를 통해 pyspark 등 라이브러리 추가, SparkSession 생성"
   ]
  },
  {
   "cell_type": "code",
   "execution_count": null,
   "id": "6bc93428-bfa1-4a7d-8435-eff379310a08",
   "metadata": {
    "tags": []
   },
   "outputs": [],
   "source": [
    "import findspark\n",
    "findspark.init(\"/usr/local/lib/spark-3.3.2-bin-hadoop3\")\n",
    "\n",
    "from pyspark import SparkConf\n",
    "from pyspark.sql.functions import *\n",
    "from pyspark.sql.types import *\n",
    "from pyspark.sql import *\n",
    "from pyspark.sql.functions import udf, col, from_json, pandas_udf, split\n",
    "\n",
    "session = SparkSession.builder \\\n",
    "    .appName(\"Jupyter_Notebook_2\") \\\n",
    "    .master(\"yarn\") \\\n",
    "    .config(\"spark.jars.packages\", \"org.apache.spark:spark-sql-kafka-0-10_2.12:3.3.2,com.datastax.spark:spark-cassandra-connector_2.12:3.3.0\") \\\n",
    "    .config(\"spark.hadoop.hive.exec.dynamic.partition.mode\", \"nonstrict\") \\\n",
    "    .enableHiveSupport() \\\n",
    "    .getOrCreate()"
   ]
  },
  {
   "cell_type": "markdown",
   "id": "571470e6-2614-4b1d-8879-49ae387a8289",
   "metadata": {},
   "source": [
    "### 2. Cassandra와 연결"
   ]
  },
  {
   "cell_type": "code",
   "execution_count": null,
   "id": "cc3240ba-c9f8-4577-9111-617b8cd09472",
   "metadata": {
    "tags": []
   },
   "outputs": [],
   "source": [
    "cassandra_keyspace = \"tagmanager\"\n",
    "cassandra_table = \"stream\"\n",
    "\n",
    "batch_df = session.read \\\n",
    "      .format(\"org.apache.spark.sql.cassandra\") \\\n",
    "  .option(\"checkpointLocation\", \"/\") \\\n",
    "  .option(\"spark.cassandra.connection.host\", \"master01\") \\\n",
    "  .option(\"spark.cassandra.connection.port\", 9042) \\\n",
    "  .option(\"keyspace\", cassandra_keyspace) \\\n",
    "  .option(\"table\", cassandra_table) \\\n",
    "  .option(\"spark.cassandra.connection.remoteConnectionsPerExecutor\", 10) \\\n",
    "  .option(\"spark.cassandra.output.concurrent.writes\", 1000) \\\n",
    "  .option(\"spark.cassandra.concurrent.reads\", 512) \\\n",
    "  .option(\"spark.cassandra.output.batch.grouping.buffer.size\", 1000) \\\n",
    "  .option(\"spark.cassandra.connection.keep_alive_ms\", 600000000) \\\n",
    "      .load()\n",
    "batch_df.printSchema()"
   ]
  },
  {
   "cell_type": "markdown",
   "id": "ca858e34-8ec0-43fd-9adb-f999a345eecb",
   "metadata": {},
   "source": [
    "### 3. PySqark SQL을 이용해 쿼리 작성"
   ]
  },
  {
   "cell_type": "code",
   "execution_count": null,
   "id": "ed0b94c3-99a8-42e0-b53b-af829ebbc4c7",
   "metadata": {
    "tags": []
   },
   "outputs": [],
   "source": [
    "from datetime import datetime\n",
    "from datetime import timedelta\n",
    "\n",
    "# 간편한 between 연산을 위해 만든 유틸리티 함수\n",
    "# base_time: 기준 시간\n",
    "# interval: 기분 시간으로부터 얼마나 조회를 할 지의 범위\n",
    "# 초, 분, 시 등의 단위\n",
    "# ex. timestamp_range(\"2023-03-21 13:49:00\", 10, 'm') => 2023-03-21 13:49:00 부터 10분 이후의 시간까지\n",
    "def timestamp_range(base_time, interval, unit):\n",
    "    dt_obj = datetime.strptime(base_time, '%Y-%m-%d %H:%M:%S')\n",
    "    if unit=='s':\n",
    "        if interval>=0:\n",
    "            return (dt_obj, dt_obj+timedelta(seconds=interval))\n",
    "        else:\n",
    "            return (dt_obj-timedelta(seconds=-interval), dt_obj)\n",
    "    if unit=='m':\n",
    "        if interval>=0:\n",
    "            return (dt_obj, dt_obj+timedelta(minutes=interval))\n",
    "        else:\n",
    "            return (dt_obj-timedelta(minutes=-interval), dt_obj)\n",
    "    if unit=='H':\n",
    "        if interval>=0:\n",
    "            return (dt_obj, dt_obj+timedelta(hours=interval))\n",
    "        else:\n",
    "            return (dt_obj-timedelta(hours=-interval), dt_obj)\n",
    "    if unit=='D':\n",
    "        if interval>=0:\n",
    "            return (dt_obj, dt_obj+timedelta(days=interval))\n",
    "        else:\n",
    "            return (dt_obj-timedelta(days=-interval), dt_obj)\n",
    "    if unit=='M':\n",
    "        if interval>=0:\n",
    "            return (dt_obj, dt_obj+timedelta(months=interval))\n",
    "        else:\n",
    "            return (dt_obj-timedelta(months=-interval), dt_obj)\n",
    "    if unit=='Y':\n",
    "        if interval>=0:\n",
    "            return (dt_obj, dt_obj+timedelta(years=interval))\n",
    "        else:\n",
    "            return (dt_obj-timedelta(years=-interval), dt_obj)\n",
    "\n",
    "\n",
    "base_time = \"2023-03-22 12:16:00\"\n",
    "\n",
    "# 해당 시간 사이의 모든 데이터 조회\n",
    "batch_df.select(\"*\") \\\n",
    "    .where(col(\"creation_timestamp\") \\\n",
    "            .between(*timestamp_range(base_time, 1, 'm'))) \\\n",
    "    .show()\n",
    "\n",
    "# 해당 시간 사이에 http://localhost:3000/second에서 일어난 click 이벤트 조회\n",
    "batch_df.select(\"*\") \\\n",
    "    .where(col(\"creation_timestamp\") \\\n",
    "            .between(*timestamp_range(base_time, 1, 'm'))) \\\n",
    "    .where(col(\"location\") \\\n",
    "           .like(\"http://localhost:3000/second\")) \\\n",
    "    .where(col(\"event\") \\\n",
    "           .like(\"click\")) \\\n",
    "    .show()\n",
    "\n",
    "# 해당 시간 사이에 http://localhost:3000/second에 접속한 사용자 조회\n",
    "batch_df.select(\"*\") \\\n",
    "    .where(col(\"creation_timestamp\") \\\n",
    "            .between(*timestamp_range(base_time, -30, 'm'))) \\\n",
    "    .where(col(\"location\") \\\n",
    "            .like(\"http://localhost:3000/second\")) \\\n",
    "    .select(\"session_id\").distinct() \\\n",
    "    .show()\n",
    "\n",
    "# location, event 기준으로 그룹핑 후 개수 세기\n",
    "batch_df.select(\"*\") \\\n",
    "    .where(col(\"creation_timestamp\") \\\n",
    "            .between(*timestamp_range(base_time, 1, 'D'))) \\\n",
    "    .groupBy(\"location\", \"event\").count() \\\n",
    "    .show()\n",
    "\n",
    "# session_id 기준으로 해당 시간동안의 서비스 체류시간 연산\n",
    "batch_df.select(\"*\") \\\n",
    "    .where(col(\"creation_timestamp\") \\\n",
    "            .between(*timestamp_range(base_time, 1, 'D'))) \\\n",
    "    .groupBy(\"session_id\").agg( \\\n",
    "        max(\"creation_timestamp\").alias(\"service_leave\"), \\\n",
    "        min(\"creation_timestamp\").alias(\"service_enter\") \\\n",
    "     ).withColumn(\"duration\", (col(\"service_leave\")-col(\"service_enter\")).cast(\"long\")) \\\n",
    "    .show()\n",
    "\n",
    "# session_id 기준으로 해당 시간동안의 페이지 체류시간 연산\n",
    "batch_df.select(\"*\") \\\n",
    "    .where(col(\"creation_timestamp\") \\\n",
    "            .between(*timestamp_range(base_time, 1, 'D'))) \\\n",
    "    .groupBy(\"location\", \"session_id\").agg( \\\n",
    "        avg(\"page_duration\").alias(\"duration\")*0.001\n",
    "    ).show()\n"
   ]
  },
  {
   "cell_type": "markdown",
   "id": "2b0c746e-13b4-4f08-be0f-d251537b5f3c",
   "metadata": {},
   "source": [
    "### 4. Hive와 연결 및 INSERT\n",
    "Hive 내 `test` DATABASE의 `weblogs` TABLE의 구조는 다음과 같다.\n",
    "```\n",
    "CREATE TABLE IF NOT EXISTS weblogs (\n",
    "creation_timestamp STRING,\n",
    "session_id STRING,\n",
    "client_id STRING,\n",
    "event STRING,\n",
    "key STRING,\n",
    "location STRING,\n",
    "position_x STRING,\n",
    "position_y STRING,\n",
    "service_token STRING,\n",
    "target_id STRING\n",
    ") PARTITIONED BY (service_id STRING)\n",
    "STORED AS ORC\n",
    "LOCATION 'hdfs:///user/hive/warehouse';\n",
    "```"
   ]
  },
  {
   "cell_type": "code",
   "execution_count": null,
   "id": "0371e31e-b9bf-4a51-a366-4feb2cf26193",
   "metadata": {
    "tags": []
   },
   "outputs": [],
   "source": [
    "hive_df = batch_df.select(\"*\") \\\n",
    "    .where(col(\"creation_timestamp\") \\\n",
    "            .between(*timestamp_range(base_time, 1, 'D')))\n",
    "\n",
    "hive_df.write.mode(\"append\") \\\n",
    "        .format(\"hive\") \\\n",
    "        .partitionBy(\"service_id\") \\\n",
    "        .saveAsTable(\"test.weblogs\")"
   ]
  },
  {
   "cell_type": "code",
   "execution_count": null,
   "id": "3f2b43c9-e685-4fe1-9ee8-a60fc8efe06e",
   "metadata": {
    "tags": []
   },
   "outputs": [],
   "source": [
    "session.stop()"
   ]
  },
  {
   "cell_type": "code",
   "execution_count": null,
   "id": "ff813695-296d-4e7f-aaf6-b40a4dc8a8f9",
   "metadata": {},
   "outputs": [],
   "source": []
  }
 ],
 "metadata": {
  "kernelspec": {
   "display_name": "Python 3 (ipykernel)",
   "language": "python",
   "name": "python3"
  },
  "language_info": {
   "codemirror_mode": {
    "name": "ipython",
    "version": 3
   },
   "file_extension": ".py",
   "mimetype": "text/x-python",
   "name": "python",
   "nbconvert_exporter": "python",
   "pygments_lexer": "ipython3",
   "version": "3.9.5"
  }
 },
 "nbformat": 4,
 "nbformat_minor": 5
}

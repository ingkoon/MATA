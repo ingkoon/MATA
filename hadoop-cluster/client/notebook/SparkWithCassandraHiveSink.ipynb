{
 "cells": [
  {
   "cell_type": "markdown",
   "id": "52a25db9-d8cc-4edf-968d-dc342da7b745",
   "metadata": {
    "tags": []
   },
   "source": [
    "# Cassandra + PySpark Batching 예제\n",
    "\n",
    "### 1. findspark를 통해 pyspark 등 라이브러리 추가, SparkContext 생성"
   ]
  },
  {
   "cell_type": "code",
   "execution_count": 1,
   "id": "6bc93428-bfa1-4a7d-8435-eff379310a08",
   "metadata": {
    "tags": []
   },
   "outputs": [],
   "source": [
    "import findspark\n",
    "findspark.init(\"/usr/local/lib/spark-3.3.2-bin-hadoop3\")\n",
    "\n",
    "from pyspark import SparkConf\n",
    "from pyspark.sql.functions import *\n",
    "from pyspark.sql.types import *\n",
    "from pyspark.sql import *\n",
    "from pyspark.sql.functions import udf, col, from_json, pandas_udf, split\n",
    "\n",
    "sconf = SparkConf()\n",
    "sconf.setAppName(\"Jupyter_Notebook_2\").set(\"spark.jars.packages\", \"com.datastax.spark:spark-cassandra-connector_2.12:3.3.0\")\n",
    "\n",
    "sc = SparkContext(conf=sconf)"
   ]
  },
  {
   "cell_type": "markdown",
   "id": "571470e6-2614-4b1d-8879-49ae387a8289",
   "metadata": {},
   "source": [
    "### 2. SparkSession 시작, Cassandra와 연결"
   ]
  },
  {
   "cell_type": "code",
   "execution_count": 2,
   "id": "cc3240ba-c9f8-4577-9111-617b8cd09472",
   "metadata": {
    "tags": []
   },
   "outputs": [
    {
     "name": "stdout",
     "output_type": "stream",
     "text": [
      "23/03/22 01:46:25 WARN DeprecatedConfigParameter: spark.cassandra.connection.keep_alive_ms is deprecated (DSE 6.0.0) and has been automatically replaced with parameter spark.cassandra.connection.keepAliveMS. \n",
      "23/03/22 01:46:27 WARN DeprecatedConfigParameter: spark.cassandra.connection.keep_alive_ms is deprecated (DSE 6.0.0) and has been automatically replaced with parameter spark.cassandra.connection.keepAliveMS. \n",
      "root\n",
      " |-- service_id: long (nullable = false)\n",
      " |-- creation_timestamp: timestamp (nullable = true)\n",
      " |-- session_id: string (nullable = true)\n",
      " |-- client_id: long (nullable = true)\n",
      " |-- event: string (nullable = true)\n",
      " |-- key: string (nullable = true)\n",
      " |-- location: string (nullable = true)\n",
      " |-- position_x: integer (nullable = true)\n",
      " |-- position_y: integer (nullable = true)\n",
      " |-- service_token: string (nullable = true)\n",
      " |-- target_id: string (nullable = true)\n",
      "\n"
     ]
    }
   ],
   "source": [
    "session = SparkSession(sc)\n",
    "\n",
    "cassandra_keyspace = \"tagmanager\"\n",
    "cassandra_table = \"stream\"\n",
    "\n",
    "batch_df = session.read \\\n",
    "      .format(\"org.apache.spark.sql.cassandra\") \\\n",
    "  .option(\"checkpointLocation\", \"/\") \\\n",
    "  .option(\"spark.cassandra.connection.host\", \"master01\") \\\n",
    "  .option(\"spark.cassandra.connection.port\", 9042) \\\n",
    "  .option(\"keyspace\", cassandra_keyspace) \\\n",
    "  .option(\"table\", cassandra_table) \\\n",
    "  .option(\"spark.cassandra.connection.remoteConnectionsPerExecutor\", 10) \\\n",
    "  .option(\"spark.cassandra.output.concurrent.writes\", 1000) \\\n",
    "  .option(\"spark.cassandra.concurrent.reads\", 512) \\\n",
    "  .option(\"spark.cassandra.output.batch.grouping.buffer.size\", 1000) \\\n",
    "  .option(\"spark.cassandra.connection.keep_alive_ms\", 600000000) \\\n",
    "      .load()\n",
    "batch_df.printSchema()"
   ]
  },
  {
   "cell_type": "markdown",
   "id": "ca858e34-8ec0-43fd-9adb-f999a345eecb",
   "metadata": {},
   "source": [
    "### 3. PySqark SQL을 이용해 쿼리 작성"
   ]
  },
  {
   "cell_type": "code",
   "execution_count": null,
   "id": "ed0b94c3-99a8-42e0-b53b-af829ebbc4c7",
   "metadata": {
    "tags": []
   },
   "outputs": [
    {
     "name": "stdout",
     "output_type": "stream",
     "text": [
      "23/03/22 01:46:41 WARN DeprecatedConfigParameter: spark.cassandra.connection.keep_alive_ms is deprecated (DSE 6.0.0) and has been automatically replaced with parameter spark.cassandra.connection.keepAliveMS. \n"
     ]
    },
    {
     "name": "stderr",
     "output_type": "stream",
     "text": [
      "[Stage 0:>                                                          (0 + 1) / 1]\r"
     ]
    }
   ],
   "source": [
    "from datetime import datetime\n",
    "from datetime import timedelta\n",
    "\n",
    "# 간편한 between 연산을 위해 만든 유틸리티 함수\n",
    "# base_time: 기준 시간\n",
    "# interval: 기분 시간으로부터 얼마나 조회를 할 지의 범위\n",
    "# 초, 분, 시 등의 단위\n",
    "# ex. timestamp_range(\"2023-03-21 13:49:00\", 10, 'm') => 2023-03-21 13:49:00 부터 10분 이후의 시간까지\n",
    "def timestamp_range(base_time, interval, unit):\n",
    "    dt_obj = datetime.strptime(base_time, '%Y-%m-%d %H:%M:%S')\n",
    "    if unit=='s':\n",
    "        if interval>=0:\n",
    "            return (dt_obj, dt_obj+timedelta(seconds=interval))\n",
    "        else:\n",
    "            return (dt_obj-timedelta(seconds=-interval), dt_obj)\n",
    "    if unit=='m':\n",
    "        if interval>=0:\n",
    "            return (dt_obj, dt_obj+timedelta(minutes=interval))\n",
    "        else:\n",
    "            return (dt_obj-timedelta(minutes=-interval), dt_obj)\n",
    "    if unit=='H':\n",
    "        if interval>=0:\n",
    "            return (dt_obj, dt_obj+timedelta(hours=interval))\n",
    "        else:\n",
    "            return (dt_obj-timedelta(hours=-interval), dt_obj)\n",
    "    if unit=='D':\n",
    "        if interval>=0:\n",
    "            return (dt_obj, dt_obj+timedelta(days=interval))\n",
    "        else:\n",
    "            return (dt_obj-timedelta(days=-interval), dt_obj)\n",
    "    if unit=='M':\n",
    "        if interval>=0:\n",
    "            return (dt_obj, dt_obj+timedelta(months=interval))\n",
    "        else:\n",
    "            return (dt_obj-timedelta(months=-interval), dt_obj)\n",
    "    if unit=='Y':\n",
    "        if interval>=0:\n",
    "            return (dt_obj, dt_obj+timedelta(years=interval))\n",
    "        else:\n",
    "            return (dt_obj-timedelta(years=-interval), dt_obj)\n",
    "\n",
    "\n",
    "base_time = \"2023-03-22 08:23:00\"\n",
    "\n",
    "\n",
    "# 해당 시간 사이의 모든 데이터 조회\n",
    "batch_df.select(\"*\") \\\n",
    "    .where(col(\"creation_timestamp\") \\\n",
    "            .between(*timestamp_range(base_time, 1, 'm'))) \\\n",
    "    .show()\n",
    "\n",
    "# 해당 시간 사이에 http://localhost:3000/second에서 일어난 click 이벤트 조회\n",
    "batch_df.select(\"*\") \\\n",
    "    .where(col(\"creation_timestamp\") \\\n",
    "            .between(*timestamp_range(base_time, 1, 'm'))) \\\n",
    "    .where(col(\"location\") \\\n",
    "           .like(\"http://localhost:3000/second\")) \\\n",
    "    .where(col(\"event\") \\\n",
    "           .like(\"click\")) \\\n",
    "    .show()\n",
    "\n",
    "# 해당 시간 사이에 http://localhost:3000/second에 접속한 사용자 조회\n",
    "batch_df.select(\"*\") \\\n",
    "    .where(col(\"creation_timestamp\") \\\n",
    "            .between(*timestamp_range(base_time, -30, 'm'))) \\\n",
    "    .where(col(\"location\") \\\n",
    "            .like(\"http://localhost:3000/second\")) \\\n",
    "    .select(\"session_id\").distinct() \\\n",
    "    .show()\n",
    "\n",
    "# location, event 기준으로 그룹핑 후 개수 세기\n",
    "batch_df.select(\"*\") \\\n",
    "    .where(col(\"creation_timestamp\") \\\n",
    "            .between(*timestamp_range(base_time, 1, 'D'))) \\\n",
    "    .groupBy(\"location\", \"event\").count() \\\n",
    "    .show()"
   ]
  },
  {
   "cell_type": "code",
   "execution_count": null,
   "id": "0371e31e-b9bf-4a51-a366-4feb2cf26193",
   "metadata": {},
   "outputs": [],
   "source": []
  },
  {
   "cell_type": "code",
   "execution_count": 25,
   "id": "3f2b43c9-e685-4fe1-9ee8-a60fc8efe06e",
   "metadata": {
    "tags": []
   },
   "outputs": [],
   "source": [
    "session.stop()\n",
    "sc.stop()"
   ]
  },
  {
   "cell_type": "code",
   "execution_count": null,
   "id": "4fc8d26c-5a04-42df-aa12-76696a07cc83",
   "metadata": {},
   "outputs": [],
   "source": []
  }
 ],
 "metadata": {
  "kernelspec": {
   "display_name": "Python 3 (ipykernel)",
   "language": "python",
   "name": "python3"
  },
  "language_info": {
   "codemirror_mode": {
    "name": "ipython",
    "version": 3
   },
   "file_extension": ".py",
   "mimetype": "text/x-python",
   "name": "python",
   "nbconvert_exporter": "python",
   "pygments_lexer": "ipython3",
   "version": "3.9.5"
  }
 },
 "nbformat": 4,
 "nbformat_minor": 5
}

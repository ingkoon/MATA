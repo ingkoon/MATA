{
 "cells": [
  {
   "cell_type": "markdown",
   "id": "8812818c-814d-449e-98e9-9a985c8eaa78",
   "metadata": {},
   "source": [
    "# Kafka -> Spark -> Cassandra 파이프라인 스크립트"
   ]
  },
  {
   "cell_type": "markdown",
   "id": "812cf2d8-76a2-404b-adfe-7268f9febc6e",
   "metadata": {},
   "source": [
    "### 1. 라이브러리 import 및 SparkContext 생성"
   ]
  },
  {
   "cell_type": "code",
   "execution_count": null,
   "id": "e8617ede-12a9-4a0a-827c-7bf3013e812e",
   "metadata": {
    "tags": []
   },
   "outputs": [],
   "source": [
    "import findspark\n",
    "findspark.init(\"/usr/local/lib/spark-3.3.2-bin-hadoop3\")\n",
    "\n",
    "from pyspark import SparkConf\n",
    "from pyspark.sql.functions import *\n",
    "from pyspark.sql.types import *\n",
    "from pyspark.sql import *\n",
    "from pyspark.sql.functions import udf, col, from_json, pandas_udf, split\n",
    "\n",
    "sconf = SparkConf()\n",
    "sconf.setAppName(\"Jupyter_Notebook\").set(\"spark.jars.packages\", \"org.apache.spark:spark-sql-kafka-0-10_2.12:3.3.2,com.datastax.spark:spark-cassandra-connector_2.12:3.3.0\")\n",
    "\n",
    "sc = SparkContext(conf=sconf)"
   ]
  },
  {
   "cell_type": "markdown",
   "id": "0ba252f7-9231-4ac8-b30f-4102dd683057",
   "metadata": {},
   "source": [
    "### 2. Kafak에서 binary 형태로 받아오는 객체의 스키마 정의, JSON 포맷으로 구조화 "
   ]
  },
  {
   "cell_type": "code",
   "execution_count": 2,
   "id": "a4c9ec8c-81da-4c69-ba50-90c902bcce1d",
   "metadata": {
    "tags": []
   },
   "outputs": [
    {
     "name": "stdout",
     "output_type": "stream",
     "text": [
      "root\n",
      " |-- key: string (nullable = true)\n",
      " |-- value: struct (nullable = true)\n",
      " |    |-- serviceToken: string (nullable = true)\n",
      " |    |-- clientId: long (nullable = true)\n",
      " |    |-- serviceId: long (nullable = true)\n",
      " |    |-- sessionId: string (nullable = true)\n",
      " |    |-- event: string (nullable = true)\n",
      " |    |-- targetId: string (nullable = true)\n",
      " |    |-- positionX: integer (nullable = true)\n",
      " |    |-- positionY: integer (nullable = true)\n",
      " |    |-- location: string (nullable = true)\n",
      " |    |-- timestamp: long (nullable = true)\n",
      " |-- topic: string (nullable = true)\n",
      " |-- partition: integer (nullable = true)\n",
      " |-- offset: long (nullable = true)\n",
      " |-- timestamp: timestamp (nullable = true)\n",
      " |-- timestampType: integer (nullable = true)\n",
      "\n"
     ]
    }
   ],
   "source": [
    "kafka_bootstrap_servers = 'master01:9092,master02:9092,slave01:9092,slave02:9092,slave03:9092'\n",
    "topic = 'tagmanager'\n",
    "schema = StructType(\n",
    "        [\n",
    "                StructField(\"serviceToken\", StringType()),\n",
    "                StructField(\"clientId\", LongType()),\n",
    "                StructField(\"serviceId\", LongType()),\n",
    "                StructField(\"sessionId\", StringType()),\n",
    "                StructField(\"event\", StringType()),\n",
    "                StructField(\"targetId\", StringType()),\n",
    "                StructField(\"positionX\", IntegerType()),\n",
    "                StructField(\"positionY\", IntegerType()),\n",
    "                StructField(\"location\", StringType()),\n",
    "                StructField(\"timestamp\", LongType())\n",
    "        ]\n",
    ")\n",
    "\n",
    "session = SparkSession(sc)\n",
    "streaming_df = session \\\n",
    "  .readStream \\\n",
    "  .format(\"kafka\") \\\n",
    "  .option(\"kafka.bootstrap.servers\", kafka_bootstrap_servers) \\\n",
    "  .option(\"key.deserializer\", \"org.apache.kafka.common.serialization.StringDeserializer\") \\\n",
    "  .option(\"value.deserializer\", \"org.apache.kafka.common.serialization.StringDeserializer\") \\\n",
    "  .option(\"failOnDataLoss\",\"False\") \\\n",
    "  .option(\"subscribe\", topic) \\\n",
    "  .load() \\\n",
    "  .withColumn(\"key\", col(\"key\").cast(\"string\")) \\\n",
    "  .withColumn(\"value\", from_json(col(\"value\").cast(\"string\"), schema))\n",
    "streaming_df.printSchema()"
   ]
  },
  {
   "cell_type": "markdown",
   "id": "ecd7470a-c8e0-4501-863a-d1432a44a932",
   "metadata": {},
   "source": [
    "### 3. Kafka에서 받아온 데이터를 Cassandra 테이블의 형태로 변환"
   ]
  },
  {
   "cell_type": "code",
   "execution_count": 6,
   "id": "4f17f1f1-a201-4a9a-8489-cdda8b6efb9a",
   "metadata": {
    "tags": []
   },
   "outputs": [
    {
     "name": "stdout",
     "output_type": "stream",
     "text": [
      "root\n",
      " |-- key: string (nullable = true)\n",
      " |-- service_token: string (nullable = true)\n",
      " |-- client_id: long (nullable = true)\n",
      " |-- service_id: long (nullable = true)\n",
      " |-- session_id: string (nullable = true)\n",
      " |-- event: string (nullable = true)\n",
      " |-- target_id: string (nullable = true)\n",
      " |-- position_x: integer (nullable = true)\n",
      " |-- position_y: integer (nullable = true)\n",
      " |-- location: string (nullable = true)\n",
      " |-- creation_timestamp: long (nullable = true)\n",
      "\n"
     ]
    }
   ],
   "source": [
    "streaming_query = streaming_df.select(\"key\", \"value.*\") \\\n",
    "    .withColumnRenamed(\"serviceToken\", \"service_token\") \\\n",
    "    .withColumnRenamed(\"clientId\", \"client_id\") \\\n",
    "    .withColumnRenamed(\"serviceId\", \"service_id\") \\\n",
    "    .withColumnRenamed(\"sessionId\", \"session_id\") \\\n",
    "    .withColumnRenamed(\"event\", \"event\") \\\n",
    "    .withColumnRenamed(\"targetId\", \"target_id\") \\\n",
    "    .withColumnRenamed(\"positionX\", \"position_x\") \\\n",
    "    .withColumnRenamed(\"positionY\", \"position_y\") \\\n",
    "    .withColumnRenamed(\"location\", \"location\") \\\n",
    "    .withColumnRenamed(\"timestamp\", \"creation_timestamp\")\n",
    "streaming_query.printSchema()"
   ]
  },
  {
   "cell_type": "markdown",
   "id": "97268c1e-6052-49bf-803a-0513fbe73a44",
   "metadata": {},
   "source": [
    "### 4. Cassandra sink로 데이터 저장"
   ]
  },
  {
   "cell_type": "code",
   "execution_count": null,
   "id": "762bfd09-03ec-4ec8-83e5-ecfcbb63baee",
   "metadata": {
    "tags": []
   },
   "outputs": [],
   "source": [
    "cassandra_keyspace = \"tagmanager\"\n",
    "cassandra_table = \"stream\"\n",
    "\n",
    "query = streaming_query.writeStream.outputMode(\"append\") \\\n",
    "      .format(\"org.apache.spark.sql.cassandra\") \\\n",
    "  .option(\"checkpointLocation\", \"/\") \\\n",
    "  .option(\"spark.cassandra.connection.host\", \"master01\") \\\n",
    "  .option(\"spark.cassandra.connection.port\", 9042) \\\n",
    "  .option(\"keyspace\", cassandra_keyspace) \\\n",
    "  .option(\"table\", cassandra_table) \\\n",
    "  .option(\"spark.cassandra.connection.remoteConnectionsPerExecutor\", 10) \\\n",
    "  .option(\"spark.cassandra.output.concurrent.writes\", 1000) \\\n",
    "  .option(\"spark.cassandra.concurrent.reads\", 512) \\\n",
    "  .option(\"spark.cassandra.output.batch.grouping.buffer.size\", 1000) \\\n",
    "  .option(\"spark.cassandra.connection.keep_alive_ms\", 600000000) \\\n",
    "      .start()\n",
    "query.awaitTermination()"
   ]
  },
  {
   "cell_type": "code",
   "execution_count": null,
   "id": "95f4ecaf-2840-44ed-a181-b8be99b18237",
   "metadata": {},
   "outputs": [],
   "source": []
  }
 ],
 "metadata": {
  "kernelspec": {
   "display_name": "Python 3 (ipykernel)",
   "language": "python",
   "name": "python3"
  },
  "language_info": {
   "codemirror_mode": {
    "name": "ipython",
    "version": 3
   },
   "file_extension": ".py",
   "mimetype": "text/x-python",
   "name": "python",
   "nbconvert_exporter": "python",
   "pygments_lexer": "ipython3",
   "version": "3.9.5"
  }
 },
 "nbformat": 4,
 "nbformat_minor": 5
}

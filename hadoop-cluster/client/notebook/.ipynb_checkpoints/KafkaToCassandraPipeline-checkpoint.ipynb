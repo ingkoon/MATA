{
 "cells": [
  {
   "cell_type": "markdown",
   "id": "8812818c-814d-449e-98e9-9a985c8eaa78",
   "metadata": {},
   "source": [
    "# Kafka -> Spark -> Cassandra 파이프라인 스크립트"
   ]
  },
  {
   "cell_type": "markdown",
   "id": "812cf2d8-76a2-404b-adfe-7268f9febc6e",
   "metadata": {},
   "source": [
    "### 1. 라이브러리 import 및 SparkContext 생성"
   ]
  },
  {
   "cell_type": "code",
   "execution_count": 6,
   "id": "e8617ede-12a9-4a0a-827c-7bf3013e812e",
   "metadata": {
    "tags": []
   },
   "outputs": [
    {
     "name": "stdout",
     "output_type": "stream",
     "text": [
      "23/03/22 01:09:31 WARN Client: Neither spark.yarn.jars nor spark.yarn.archive is set, falling back to uploading libraries under SPARK_HOME.\n",
      "23/03/22 01:09:36 WARN Client: Same path resource file:///root/.ivy2/jars/org.apache.spark_spark-sql-kafka-0-10_2.12-3.3.2.jar added multiple times to distributed cache.\n",
      "23/03/22 01:09:36 WARN Client: Same path resource file:///root/.ivy2/jars/com.datastax.spark_spark-cassandra-connector_2.12-3.3.0.jar added multiple times to distributed cache.\n",
      "23/03/22 01:09:36 WARN Client: Same path resource file:///root/.ivy2/jars/org.apache.spark_spark-token-provider-kafka-0-10_2.12-3.3.2.jar added multiple times to distributed cache.\n",
      "23/03/22 01:09:36 WARN Client: Same path resource file:///root/.ivy2/jars/org.apache.kafka_kafka-clients-2.8.1.jar added multiple times to distributed cache.\n",
      "23/03/22 01:09:36 WARN Client: Same path resource file:///root/.ivy2/jars/org.apache.commons_commons-pool2-2.11.1.jar added multiple times to distributed cache.\n",
      "23/03/22 01:09:36 WARN Client: Same path resource file:///root/.ivy2/jars/org.spark-project.spark_unused-1.0.0.jar added multiple times to distributed cache.\n",
      "23/03/22 01:09:36 WARN Client: Same path resource file:///root/.ivy2/jars/org.apache.hadoop_hadoop-client-runtime-3.3.2.jar added multiple times to distributed cache.\n",
      "23/03/22 01:09:36 WARN Client: Same path resource file:///root/.ivy2/jars/org.lz4_lz4-java-1.8.0.jar added multiple times to distributed cache.\n",
      "23/03/22 01:09:36 WARN Client: Same path resource file:///root/.ivy2/jars/org.xerial.snappy_snappy-java-1.1.8.4.jar added multiple times to distributed cache.\n",
      "23/03/22 01:09:36 WARN Client: Same path resource file:///root/.ivy2/jars/org.slf4j_slf4j-api-1.7.32.jar added multiple times to distributed cache.\n",
      "23/03/22 01:09:36 WARN Client: Same path resource file:///root/.ivy2/jars/org.apache.hadoop_hadoop-client-api-3.3.2.jar added multiple times to distributed cache.\n",
      "23/03/22 01:09:36 WARN Client: Same path resource file:///root/.ivy2/jars/commons-logging_commons-logging-1.1.3.jar added multiple times to distributed cache.\n",
      "23/03/22 01:09:36 WARN Client: Same path resource file:///root/.ivy2/jars/com.datastax.spark_spark-cassandra-connector-driver_2.12-3.3.0.jar added multiple times to distributed cache.\n",
      "23/03/22 01:09:36 WARN Client: Same path resource file:///root/.ivy2/jars/com.datastax.oss_java-driver-core-shaded-4.13.0.jar added multiple times to distributed cache.\n",
      "23/03/22 01:09:36 WARN Client: Same path resource file:///root/.ivy2/jars/com.datastax.oss_java-driver-mapper-runtime-4.13.0.jar added multiple times to distributed cache.\n",
      "23/03/22 01:09:36 WARN Client: Same path resource file:///root/.ivy2/jars/org.apache.commons_commons-lang3-3.10.jar added multiple times to distributed cache.\n",
      "23/03/22 01:09:36 WARN Client: Same path resource file:///root/.ivy2/jars/com.thoughtworks.paranamer_paranamer-2.8.jar added multiple times to distributed cache.\n",
      "23/03/22 01:09:36 WARN Client: Same path resource file:///root/.ivy2/jars/org.scala-lang_scala-reflect-2.12.11.jar added multiple times to distributed cache.\n",
      "23/03/22 01:09:36 WARN Client: Same path resource file:///root/.ivy2/jars/com.datastax.oss_native-protocol-1.5.0.jar added multiple times to distributed cache.\n",
      "23/03/22 01:09:36 WARN Client: Same path resource file:///root/.ivy2/jars/com.datastax.oss_java-driver-shaded-guava-25.1-jre-graal-sub-1.jar added multiple times to distributed cache.\n",
      "23/03/22 01:09:36 WARN Client: Same path resource file:///root/.ivy2/jars/com.typesafe_config-1.4.1.jar added multiple times to distributed cache.\n",
      "23/03/22 01:09:36 WARN Client: Same path resource file:///root/.ivy2/jars/io.dropwizard.metrics_metrics-core-4.1.18.jar added multiple times to distributed cache.\n",
      "23/03/22 01:09:36 WARN Client: Same path resource file:///root/.ivy2/jars/org.hdrhistogram_HdrHistogram-2.1.12.jar added multiple times to distributed cache.\n",
      "23/03/22 01:09:36 WARN Client: Same path resource file:///root/.ivy2/jars/org.reactivestreams_reactive-streams-1.0.3.jar added multiple times to distributed cache.\n",
      "23/03/22 01:09:36 WARN Client: Same path resource file:///root/.ivy2/jars/com.github.stephenc.jcip_jcip-annotations-1.0-1.jar added multiple times to distributed cache.\n",
      "23/03/22 01:09:36 WARN Client: Same path resource file:///root/.ivy2/jars/com.github.spotbugs_spotbugs-annotations-3.1.12.jar added multiple times to distributed cache.\n",
      "23/03/22 01:09:36 WARN Client: Same path resource file:///root/.ivy2/jars/com.google.code.findbugs_jsr305-3.0.2.jar added multiple times to distributed cache.\n",
      "23/03/22 01:09:36 WARN Client: Same path resource file:///root/.ivy2/jars/com.datastax.oss_java-driver-query-builder-4.13.0.jar added multiple times to distributed cache.\n"
     ]
    }
   ],
   "source": [
    "import findspark\n",
    "findspark.init(\"/usr/local/lib/spark-3.3.2-bin-hadoop3\")\n",
    "\n",
    "from pyspark import SparkConf\n",
    "from pyspark.sql.functions import *\n",
    "from pyspark.sql.types import *\n",
    "from pyspark.sql import *\n",
    "from pyspark.sql.functions import udf, col, from_json, pandas_udf, split\n",
    "\n",
    "sconf = SparkConf()\n",
    "sconf.setAppName(\"Jupyter_Notebook\").set(\"spark.jars.packages\", \"org.apache.spark:spark-sql-kafka-0-10_2.12:3.3.2,com.datastax.spark:spark-cassandra-connector_2.12:3.3.0\")\n",
    "\n",
    "sc = SparkContext(conf=sconf)"
   ]
  },
  {
   "cell_type": "markdown",
   "id": "0ba252f7-9231-4ac8-b30f-4102dd683057",
   "metadata": {},
   "source": [
    "### 2. Kafak에서 binary 형태로 받아오는 객체의 스키마 정의, JSON 포맷으로 구조화 "
   ]
  },
  {
   "cell_type": "code",
   "execution_count": 7,
   "id": "a4c9ec8c-81da-4c69-ba50-90c902bcce1d",
   "metadata": {
    "tags": []
   },
   "outputs": [
    {
     "name": "stdout",
     "output_type": "stream",
     "text": [
      "root\n",
      " |-- key: string (nullable = true)\n",
      " |-- value: struct (nullable = true)\n",
      " |    |-- serviceToken: string (nullable = true)\n",
      " |    |-- clientId: long (nullable = true)\n",
      " |    |-- serviceId: long (nullable = true)\n",
      " |    |-- sessionId: string (nullable = true)\n",
      " |    |-- event: string (nullable = true)\n",
      " |    |-- targetId: string (nullable = true)\n",
      " |    |-- positionX: integer (nullable = true)\n",
      " |    |-- positionY: integer (nullable = true)\n",
      " |    |-- location: string (nullable = true)\n",
      " |    |-- timestamp: long (nullable = true)\n",
      " |-- topic: string (nullable = true)\n",
      " |-- partition: integer (nullable = true)\n",
      " |-- offset: long (nullable = true)\n",
      " |-- timestamp: timestamp (nullable = true)\n",
      " |-- timestampType: integer (nullable = true)\n",
      "\n"
     ]
    }
   ],
   "source": [
    "kafka_bootstrap_servers = 'master01:9092,master02:9092,slave01:9092,slave02:9092,slave03:9092'\n",
    "topic = 'tagmanager'\n",
    "schema = StructType(\n",
    "        [\n",
    "                StructField(\"serviceToken\", StringType()),\n",
    "                StructField(\"clientId\", LongType()),\n",
    "                StructField(\"serviceId\", LongType()),\n",
    "                StructField(\"sessionId\", StringType()),\n",
    "                StructField(\"event\", StringType()),\n",
    "                StructField(\"targetId\", StringType()),\n",
    "                StructField(\"positionX\", IntegerType()),\n",
    "                StructField(\"positionY\", IntegerType()),\n",
    "                StructField(\"location\", StringType()),\n",
    "                StructField(\"prevLocation\", StringType()),\n",
    "                StructField(\"referrer\", StringType()),\n",
    "                StructField(\"timestamp\", LongType()),\n",
    "                StructField(\"pageDuration\", LongType())\n",
    "        ]\n",
    ")\n",
    "\n",
    "session = SparkSession(sc)\n",
    "streaming_df = session \\\n",
    "  .readStream \\\n",
    "  .format(\"kafka\") \\\n",
    "  .option(\"kafka.bootstrap.servers\", kafka_bootstrap_servers) \\\n",
    "  .option(\"key.deserializer\", \"org.apache.kafka.common.serialization.StringDeserializer\") \\\n",
    "  .option(\"value.deserializer\", \"org.apache.kafka.common.serialization.StringDeserializer\") \\\n",
    "  .option(\"failOnDataLoss\",\"False\") \\\n",
    "  .option(\"subscribe\", topic) \\\n",
    "  .load() \\\n",
    "  .withColumn(\"key\", col(\"key\").cast(\"string\")) \\\n",
    "  .withColumn(\"value\", from_json(col(\"value\").cast(\"string\"), schema))\n",
    "streaming_df.printSchema()"
   ]
  },
  {
   "cell_type": "markdown",
   "id": "ecd7470a-c8e0-4501-863a-d1432a44a932",
   "metadata": {},
   "source": [
    "### 3. Kafka에서 받아온 데이터를 Cassandra 테이블의 형태로 변환"
   ]
  },
  {
   "cell_type": "code",
   "execution_count": 8,
   "id": "4f17f1f1-a201-4a9a-8489-cdda8b6efb9a",
   "metadata": {
    "tags": []
   },
   "outputs": [
    {
     "name": "stdout",
     "output_type": "stream",
     "text": [
      "root\n",
      " |-- key: string (nullable = true)\n",
      " |-- service_token: string (nullable = true)\n",
      " |-- client_id: long (nullable = true)\n",
      " |-- service_id: long (nullable = true)\n",
      " |-- session_id: string (nullable = true)\n",
      " |-- event: string (nullable = true)\n",
      " |-- target_id: string (nullable = true)\n",
      " |-- position_x: integer (nullable = true)\n",
      " |-- position_y: integer (nullable = true)\n",
      " |-- location: string (nullable = true)\n",
      " |-- creation_timestamp: long (nullable = true)\n",
      "\n"
     ]
    }
   ],
   "source": [
    "streaming_query = streaming_df.select(\"key\", \"value.*\") \\\n",
    "    .withColumnRenamed(\"serviceToken\", \"service_token\") \\\n",
    "    .withColumnRenamed(\"clientId\", \"client_id\") \\\n",
    "    .withColumnRenamed(\"serviceId\", \"service_id\") \\\n",
    "    .withColumnRenamed(\"sessionId\", \"session_id\") \\\n",
    "    .withColumnRenamed(\"event\", \"event\") \\\n",
    "    .withColumnRenamed(\"targetId\", \"target_id\") \\\n",
    "    .withColumnRenamed(\"positionX\", \"position_x\") \\\n",
    "    .withColumnRenamed(\"positionY\", \"position_y\") \\\n",
    "    .withColumnRenamed(\"location\", \"location\") \\\n",
    "    .withColumnRenamed(\"prevLocation\", \"prev_location\") \\\n",
    "    .withColumnRenamed(\"referrer\", \"referrer\") \\\n",
    "    .withColumnRenamed(\"timestamp\", \"creation_timestamp\") \\\n",
    "    .withColumnRenamed(\"pageDuration\", \"page_duration\")\n",
    "streaming_query.printSchema()"
   ]
  },
  {
   "cell_type": "markdown",
   "id": "97268c1e-6052-49bf-803a-0513fbe73a44",
   "metadata": {},
   "source": [
    "### 4. Cassandra sink로 데이터 저장\n",
    "\n",
    "```\n",
    "CREATE TABLE stream (\n",
    "key TEXT,\n",
    "service_token TEXT,\n",
    "client_id BIGINT,\n",
    "service_id BIGINT,\n",
    "session_id TEXT,\n",
    "event TEXT,\n",
    "target_id TEXT,\n",
    "position_x INT,\n",
    "position_y INT,\n",
    "location TEXT,\n",
    "prev_location TEXT,\n",
    "referrer TEXT,\n",
    "creation_timestamp TIMESTAMP,\n",
    "page_duration BIGINT,\n",
    "PRIMARY KEY ((service_id), creation_timestamp, session_id)\n",
    ") WITH CLUSTERING ORDER BY (creation_timestamp DESC);\n",
    "```"
   ]
  },
  {
   "cell_type": "code",
   "execution_count": 9,
   "id": "762bfd09-03ec-4ec8-83e5-ecfcbb63baee",
   "metadata": {
    "tags": []
   },
   "outputs": [
    {
     "name": "stdout",
     "output_type": "stream",
     "text": [
      "23/03/22 01:11:45 WARN DeprecatedConfigParameter: spark.cassandra.connection.keep_alive_ms is deprecated (DSE 6.0.0) and has been automatically replaced with parameter spark.cassandra.connection.keepAliveMS. \n",
      "23/03/22 01:11:45 WARN DeprecatedConfigParameter: spark.cassandra.connection.keep_alive_ms is deprecated (DSE 6.0.0) and has been automatically replaced with parameter spark.cassandra.connection.keepAliveMS. \n",
      "23/03/22 01:11:45 WARN ResolveWriteToStream: spark.sql.adaptive.enabled is not supported in streaming DataFrames/Datasets and will be disabled.\n",
      "23/03/22 01:11:45 WARN DeprecatedConfigParameter: spark.cassandra.connection.keep_alive_ms is deprecated (DSE 6.0.0) and has been automatically replaced with parameter spark.cassandra.connection.keepAliveMS. \n",
      "23/03/22 01:11:45 WARN DeprecatedConfigParameter: spark.cassandra.connection.keep_alive_ms is deprecated (DSE 6.0.0) and has been automatically replaced with parameter spark.cassandra.connection.keepAliveMS. \n",
      "23/03/22 01:11:45 WARN DeprecatedConfigParameter: spark.cassandra.connection.keep_alive_ms is deprecated (DSE 6.0.0) and has been automatically replaced with parameter spark.cassandra.connection.keepAliveMS. \n"
     ]
    },
    {
     "name": "stderr",
     "output_type": "stream",
     "text": [
      "                                                                                \r"
     ]
    },
    {
     "name": "stdout",
     "output_type": "stream",
     "text": [
      "23/03/22 01:11:53 WARN DeprecatedConfigParameter: spark.cassandra.connection.keep_alive_ms is deprecated (DSE 6.0.0) and has been automatically replaced with parameter spark.cassandra.connection.keepAliveMS. \n",
      "23/03/22 01:11:53 WARN DeprecatedConfigParameter: spark.cassandra.connection.keep_alive_ms is deprecated (DSE 6.0.0) and has been automatically replaced with parameter spark.cassandra.connection.keepAliveMS. \n",
      "23/03/22 01:11:53 WARN DeprecatedConfigParameter: spark.cassandra.connection.keep_alive_ms is deprecated (DSE 6.0.0) and has been automatically replaced with parameter spark.cassandra.connection.keepAliveMS. \n"
     ]
    },
    {
     "name": "stderr",
     "output_type": "stream",
     "text": [
      "ERROR:root:KeyboardInterrupt while sending command.                             \n",
      "Traceback (most recent call last):\n",
      "  File \"/usr/local/lib/spark-3.3.2-bin-hadoop3/python/lib/py4j-0.10.9.5-src.zip/py4j/java_gateway.py\", line 1038, in send_command\n",
      "    response = connection.send_command(command)\n",
      "  File \"/usr/local/lib/spark-3.3.2-bin-hadoop3/python/lib/py4j-0.10.9.5-src.zip/py4j/clientserver.py\", line 511, in send_command\n",
      "    answer = smart_decode(self.stream.readline()[:-1])\n",
      "  File \"/usr/local/lib/python3.9/socket.py\", line 704, in readinto\n",
      "    return self._sock.recv_into(b)\n",
      "KeyboardInterrupt\n"
     ]
    },
    {
     "ename": "KeyboardInterrupt",
     "evalue": "",
     "output_type": "error",
     "traceback": [
      "\u001b[0;31m---------------------------------------------------------------------------\u001b[0m",
      "\u001b[0;31mKeyboardInterrupt\u001b[0m                         Traceback (most recent call last)",
      "Cell \u001b[0;32mIn[9], line 17\u001b[0m\n\u001b[1;32m      2\u001b[0m cassandra_table \u001b[38;5;241m=\u001b[39m \u001b[38;5;124m\"\u001b[39m\u001b[38;5;124mstream\u001b[39m\u001b[38;5;124m\"\u001b[39m\n\u001b[1;32m      4\u001b[0m query \u001b[38;5;241m=\u001b[39m streaming_query\u001b[38;5;241m.\u001b[39mwriteStream\u001b[38;5;241m.\u001b[39moutputMode(\u001b[38;5;124m\"\u001b[39m\u001b[38;5;124mappend\u001b[39m\u001b[38;5;124m\"\u001b[39m) \\\n\u001b[1;32m      5\u001b[0m       \u001b[38;5;241m.\u001b[39mformat(\u001b[38;5;124m\"\u001b[39m\u001b[38;5;124morg.apache.spark.sql.cassandra\u001b[39m\u001b[38;5;124m\"\u001b[39m) \\\n\u001b[1;32m      6\u001b[0m   \u001b[38;5;241m.\u001b[39moption(\u001b[38;5;124m\"\u001b[39m\u001b[38;5;124mcheckpointLocation\u001b[39m\u001b[38;5;124m\"\u001b[39m, \u001b[38;5;124m\"\u001b[39m\u001b[38;5;124m/\u001b[39m\u001b[38;5;124m\"\u001b[39m) \\\n\u001b[0;32m   (...)\u001b[0m\n\u001b[1;32m     15\u001b[0m   \u001b[38;5;241m.\u001b[39moption(\u001b[38;5;124m\"\u001b[39m\u001b[38;5;124mspark.cassandra.connection.keep_alive_ms\u001b[39m\u001b[38;5;124m\"\u001b[39m, \u001b[38;5;241m600000000\u001b[39m) \\\n\u001b[1;32m     16\u001b[0m       \u001b[38;5;241m.\u001b[39mstart()\n\u001b[0;32m---> 17\u001b[0m \u001b[43mquery\u001b[49m\u001b[38;5;241;43m.\u001b[39;49m\u001b[43mawaitTermination\u001b[49m\u001b[43m(\u001b[49m\u001b[43m)\u001b[49m\n",
      "File \u001b[0;32m/usr/local/lib/spark-3.3.2-bin-hadoop3/python/pyspark/sql/streaming.py:107\u001b[0m, in \u001b[0;36mStreamingQuery.awaitTermination\u001b[0;34m(self, timeout)\u001b[0m\n\u001b[1;32m    105\u001b[0m     \u001b[38;5;28;01mreturn\u001b[39;00m \u001b[38;5;28mself\u001b[39m\u001b[38;5;241m.\u001b[39m_jsq\u001b[38;5;241m.\u001b[39mawaitTermination(\u001b[38;5;28mint\u001b[39m(timeout \u001b[38;5;241m*\u001b[39m \u001b[38;5;241m1000\u001b[39m))\n\u001b[1;32m    106\u001b[0m \u001b[38;5;28;01melse\u001b[39;00m:\n\u001b[0;32m--> 107\u001b[0m     \u001b[38;5;28;01mreturn\u001b[39;00m \u001b[38;5;28;43mself\u001b[39;49m\u001b[38;5;241;43m.\u001b[39;49m\u001b[43m_jsq\u001b[49m\u001b[38;5;241;43m.\u001b[39;49m\u001b[43mawaitTermination\u001b[49m\u001b[43m(\u001b[49m\u001b[43m)\u001b[49m\n",
      "File \u001b[0;32m/usr/local/lib/spark-3.3.2-bin-hadoop3/python/lib/py4j-0.10.9.5-src.zip/py4j/java_gateway.py:1320\u001b[0m, in \u001b[0;36mJavaMember.__call__\u001b[0;34m(self, *args)\u001b[0m\n\u001b[1;32m   1313\u001b[0m args_command, temp_args \u001b[38;5;241m=\u001b[39m \u001b[38;5;28mself\u001b[39m\u001b[38;5;241m.\u001b[39m_build_args(\u001b[38;5;241m*\u001b[39margs)\n\u001b[1;32m   1315\u001b[0m command \u001b[38;5;241m=\u001b[39m proto\u001b[38;5;241m.\u001b[39mCALL_COMMAND_NAME \u001b[38;5;241m+\u001b[39m\\\n\u001b[1;32m   1316\u001b[0m     \u001b[38;5;28mself\u001b[39m\u001b[38;5;241m.\u001b[39mcommand_header \u001b[38;5;241m+\u001b[39m\\\n\u001b[1;32m   1317\u001b[0m     args_command \u001b[38;5;241m+\u001b[39m\\\n\u001b[1;32m   1318\u001b[0m     proto\u001b[38;5;241m.\u001b[39mEND_COMMAND_PART\n\u001b[0;32m-> 1320\u001b[0m answer \u001b[38;5;241m=\u001b[39m \u001b[38;5;28;43mself\u001b[39;49m\u001b[38;5;241;43m.\u001b[39;49m\u001b[43mgateway_client\u001b[49m\u001b[38;5;241;43m.\u001b[39;49m\u001b[43msend_command\u001b[49m\u001b[43m(\u001b[49m\u001b[43mcommand\u001b[49m\u001b[43m)\u001b[49m\n\u001b[1;32m   1321\u001b[0m return_value \u001b[38;5;241m=\u001b[39m get_return_value(\n\u001b[1;32m   1322\u001b[0m     answer, \u001b[38;5;28mself\u001b[39m\u001b[38;5;241m.\u001b[39mgateway_client, \u001b[38;5;28mself\u001b[39m\u001b[38;5;241m.\u001b[39mtarget_id, \u001b[38;5;28mself\u001b[39m\u001b[38;5;241m.\u001b[39mname)\n\u001b[1;32m   1324\u001b[0m \u001b[38;5;28;01mfor\u001b[39;00m temp_arg \u001b[38;5;129;01min\u001b[39;00m temp_args:\n",
      "File \u001b[0;32m/usr/local/lib/spark-3.3.2-bin-hadoop3/python/lib/py4j-0.10.9.5-src.zip/py4j/java_gateway.py:1038\u001b[0m, in \u001b[0;36mGatewayClient.send_command\u001b[0;34m(self, command, retry, binary)\u001b[0m\n\u001b[1;32m   1036\u001b[0m connection \u001b[38;5;241m=\u001b[39m \u001b[38;5;28mself\u001b[39m\u001b[38;5;241m.\u001b[39m_get_connection()\n\u001b[1;32m   1037\u001b[0m \u001b[38;5;28;01mtry\u001b[39;00m:\n\u001b[0;32m-> 1038\u001b[0m     response \u001b[38;5;241m=\u001b[39m \u001b[43mconnection\u001b[49m\u001b[38;5;241;43m.\u001b[39;49m\u001b[43msend_command\u001b[49m\u001b[43m(\u001b[49m\u001b[43mcommand\u001b[49m\u001b[43m)\u001b[49m\n\u001b[1;32m   1039\u001b[0m     \u001b[38;5;28;01mif\u001b[39;00m binary:\n\u001b[1;32m   1040\u001b[0m         \u001b[38;5;28;01mreturn\u001b[39;00m response, \u001b[38;5;28mself\u001b[39m\u001b[38;5;241m.\u001b[39m_create_connection_guard(connection)\n",
      "File \u001b[0;32m/usr/local/lib/spark-3.3.2-bin-hadoop3/python/lib/py4j-0.10.9.5-src.zip/py4j/clientserver.py:511\u001b[0m, in \u001b[0;36mClientServerConnection.send_command\u001b[0;34m(self, command)\u001b[0m\n\u001b[1;32m    509\u001b[0m \u001b[38;5;28;01mtry\u001b[39;00m:\n\u001b[1;32m    510\u001b[0m     \u001b[38;5;28;01mwhile\u001b[39;00m \u001b[38;5;28;01mTrue\u001b[39;00m:\n\u001b[0;32m--> 511\u001b[0m         answer \u001b[38;5;241m=\u001b[39m smart_decode(\u001b[38;5;28;43mself\u001b[39;49m\u001b[38;5;241;43m.\u001b[39;49m\u001b[43mstream\u001b[49m\u001b[38;5;241;43m.\u001b[39;49m\u001b[43mreadline\u001b[49m\u001b[43m(\u001b[49m\u001b[43m)\u001b[49m[:\u001b[38;5;241m-\u001b[39m\u001b[38;5;241m1\u001b[39m])\n\u001b[1;32m    512\u001b[0m         logger\u001b[38;5;241m.\u001b[39mdebug(\u001b[38;5;124m\"\u001b[39m\u001b[38;5;124mAnswer received: \u001b[39m\u001b[38;5;132;01m{0}\u001b[39;00m\u001b[38;5;124m\"\u001b[39m\u001b[38;5;241m.\u001b[39mformat(answer))\n\u001b[1;32m    513\u001b[0m         \u001b[38;5;66;03m# Happens when a the other end is dead. There might be an empty\u001b[39;00m\n\u001b[1;32m    514\u001b[0m         \u001b[38;5;66;03m# answer before the socket raises an error.\u001b[39;00m\n",
      "File \u001b[0;32m/usr/local/lib/python3.9/socket.py:704\u001b[0m, in \u001b[0;36mSocketIO.readinto\u001b[0;34m(self, b)\u001b[0m\n\u001b[1;32m    702\u001b[0m \u001b[38;5;28;01mwhile\u001b[39;00m \u001b[38;5;28;01mTrue\u001b[39;00m:\n\u001b[1;32m    703\u001b[0m     \u001b[38;5;28;01mtry\u001b[39;00m:\n\u001b[0;32m--> 704\u001b[0m         \u001b[38;5;28;01mreturn\u001b[39;00m \u001b[38;5;28;43mself\u001b[39;49m\u001b[38;5;241;43m.\u001b[39;49m\u001b[43m_sock\u001b[49m\u001b[38;5;241;43m.\u001b[39;49m\u001b[43mrecv_into\u001b[49m\u001b[43m(\u001b[49m\u001b[43mb\u001b[49m\u001b[43m)\u001b[49m\n\u001b[1;32m    705\u001b[0m     \u001b[38;5;28;01mexcept\u001b[39;00m timeout:\n\u001b[1;32m    706\u001b[0m         \u001b[38;5;28mself\u001b[39m\u001b[38;5;241m.\u001b[39m_timeout_occurred \u001b[38;5;241m=\u001b[39m \u001b[38;5;28;01mTrue\u001b[39;00m\n",
      "\u001b[0;31mKeyboardInterrupt\u001b[0m: "
     ]
    }
   ],
   "source": [
    "cassandra_keyspace = \"tagmanager\"\n",
    "cassandra_table = \"stream\"\n",
    "\n",
    "query = streaming_query.writeStream.outputMode(\"append\") \\\n",
    "      .format(\"org.apache.spark.sql.cassandra\") \\\n",
    "  .option(\"checkpointLocation\", \"/\") \\\n",
    "  .option(\"spark.cassandra.connection.host\", \"master01\") \\\n",
    "  .option(\"spark.cassandra.connection.port\", 9042) \\\n",
    "  .option(\"keyspace\", cassandra_keyspace) \\\n",
    "  .option(\"table\", cassandra_table) \\\n",
    "  .option(\"spark.cassandra.connection.remoteConnectionsPerExecutor\", 10) \\\n",
    "  .option(\"spark.cassandra.output.concurrent.writes\", 1000) \\\n",
    "  .option(\"spark.cassandra.concurrent.reads\", 512) \\\n",
    "  .option(\"spark.cassandra.output.batch.grouping.buffer.size\", 1000) \\\n",
    "  .option(\"spark.cassandra.connection.keep_alive_ms\", 600000000) \\\n",
    "      .start()\n",
    "query.awaitTermination()"
   ]
  },
  {
   "cell_type": "code",
   "execution_count": 6,
   "id": "95f4ecaf-2840-44ed-a181-b8be99b18237",
   "metadata": {
    "tags": []
   },
   "outputs": [],
   "source": [
    "session.stop()\n",
    "sc.stop()"
   ]
  },
  {
   "cell_type": "code",
   "execution_count": null,
   "id": "501f1a0a-1e7e-41fe-999d-8745585528fe",
   "metadata": {},
   "outputs": [],
   "source": []
  }
 ],
 "metadata": {
  "kernelspec": {
   "display_name": "Python 3 (ipykernel)",
   "language": "python",
   "name": "python3"
  },
  "language_info": {
   "codemirror_mode": {
    "name": "ipython",
    "version": 3
   },
   "file_extension": ".py",
   "mimetype": "text/x-python",
   "name": "python",
   "nbconvert_exporter": "python",
   "pygments_lexer": "ipython3",
   "version": "3.9.5"
  }
 },
 "nbformat": 4,
 "nbformat_minor": 5
}

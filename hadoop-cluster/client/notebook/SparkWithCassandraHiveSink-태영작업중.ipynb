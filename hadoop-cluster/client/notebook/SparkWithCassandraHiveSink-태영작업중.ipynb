{
 "cells": [
  {
   "cell_type": "markdown",
   "id": "52a25db9-d8cc-4edf-968d-dc342da7b745",
   "metadata": {
    "tags": []
   },
   "source": [
    "# Cassandra + PySpark Batching 예제\n",
    "\n",
    "### 1. findspark를 통해 pyspark 등 라이브러리 추가, SparkSession 생성"
   ]
  },
  {
   "cell_type": "code",
   "execution_count": 105,
   "id": "6bc93428-bfa1-4a7d-8435-eff379310a08",
   "metadata": {
    "tags": []
   },
   "outputs": [
    {
     "name": "stdout",
     "output_type": "stream",
     "text": [
      "23/03/24 05:50:48 WARN Client: Neither spark.yarn.jars nor spark.yarn.archive is set, falling back to uploading libraries under SPARK_HOME.\n",
      "23/03/24 05:50:50 WARN Client: Same path resource file:///root/.ivy2/jars/org.apache.spark_spark-sql-kafka-0-10_2.12-3.3.2.jar added multiple times to distributed cache.\n",
      "23/03/24 05:50:50 WARN Client: Same path resource file:///root/.ivy2/jars/com.datastax.spark_spark-cassandra-connector_2.12-3.3.0.jar added multiple times to distributed cache.\n",
      "23/03/24 05:50:50 WARN Client: Same path resource file:///root/.ivy2/jars/org.apache.spark_spark-token-provider-kafka-0-10_2.12-3.3.2.jar added multiple times to distributed cache.\n",
      "23/03/24 05:50:50 WARN Client: Same path resource file:///root/.ivy2/jars/org.apache.kafka_kafka-clients-2.8.1.jar added multiple times to distributed cache.\n",
      "23/03/24 05:50:50 WARN Client: Same path resource file:///root/.ivy2/jars/org.apache.commons_commons-pool2-2.11.1.jar added multiple times to distributed cache.\n",
      "23/03/24 05:50:50 WARN Client: Same path resource file:///root/.ivy2/jars/org.spark-project.spark_unused-1.0.0.jar added multiple times to distributed cache.\n",
      "23/03/24 05:50:50 WARN Client: Same path resource file:///root/.ivy2/jars/org.apache.hadoop_hadoop-client-runtime-3.3.2.jar added multiple times to distributed cache.\n",
      "23/03/24 05:50:50 WARN Client: Same path resource file:///root/.ivy2/jars/org.lz4_lz4-java-1.8.0.jar added multiple times to distributed cache.\n",
      "23/03/24 05:50:50 WARN Client: Same path resource file:///root/.ivy2/jars/org.xerial.snappy_snappy-java-1.1.8.4.jar added multiple times to distributed cache.\n",
      "23/03/24 05:50:50 WARN Client: Same path resource file:///root/.ivy2/jars/org.slf4j_slf4j-api-1.7.32.jar added multiple times to distributed cache.\n",
      "23/03/24 05:50:50 WARN Client: Same path resource file:///root/.ivy2/jars/org.apache.hadoop_hadoop-client-api-3.3.2.jar added multiple times to distributed cache.\n",
      "23/03/24 05:50:50 WARN Client: Same path resource file:///root/.ivy2/jars/commons-logging_commons-logging-1.1.3.jar added multiple times to distributed cache.\n",
      "23/03/24 05:50:50 WARN Client: Same path resource file:///root/.ivy2/jars/com.datastax.spark_spark-cassandra-connector-driver_2.12-3.3.0.jar added multiple times to distributed cache.\n",
      "23/03/24 05:50:50 WARN Client: Same path resource file:///root/.ivy2/jars/com.datastax.oss_java-driver-core-shaded-4.13.0.jar added multiple times to distributed cache.\n",
      "23/03/24 05:50:50 WARN Client: Same path resource file:///root/.ivy2/jars/com.datastax.oss_java-driver-mapper-runtime-4.13.0.jar added multiple times to distributed cache.\n",
      "23/03/24 05:50:50 WARN Client: Same path resource file:///root/.ivy2/jars/org.apache.commons_commons-lang3-3.10.jar added multiple times to distributed cache.\n",
      "23/03/24 05:50:50 WARN Client: Same path resource file:///root/.ivy2/jars/com.thoughtworks.paranamer_paranamer-2.8.jar added multiple times to distributed cache.\n",
      "23/03/24 05:50:50 WARN Client: Same path resource file:///root/.ivy2/jars/org.scala-lang_scala-reflect-2.12.11.jar added multiple times to distributed cache.\n",
      "23/03/24 05:50:50 WARN Client: Same path resource file:///root/.ivy2/jars/com.datastax.oss_native-protocol-1.5.0.jar added multiple times to distributed cache.\n",
      "23/03/24 05:50:50 WARN Client: Same path resource file:///root/.ivy2/jars/com.datastax.oss_java-driver-shaded-guava-25.1-jre-graal-sub-1.jar added multiple times to distributed cache.\n",
      "23/03/24 05:50:50 WARN Client: Same path resource file:///root/.ivy2/jars/com.typesafe_config-1.4.1.jar added multiple times to distributed cache.\n",
      "23/03/24 05:50:50 WARN Client: Same path resource file:///root/.ivy2/jars/io.dropwizard.metrics_metrics-core-4.1.18.jar added multiple times to distributed cache.\n",
      "23/03/24 05:50:50 WARN Client: Same path resource file:///root/.ivy2/jars/org.hdrhistogram_HdrHistogram-2.1.12.jar added multiple times to distributed cache.\n",
      "23/03/24 05:50:50 WARN Client: Same path resource file:///root/.ivy2/jars/org.reactivestreams_reactive-streams-1.0.3.jar added multiple times to distributed cache.\n",
      "23/03/24 05:50:50 WARN Client: Same path resource file:///root/.ivy2/jars/com.github.stephenc.jcip_jcip-annotations-1.0-1.jar added multiple times to distributed cache.\n",
      "23/03/24 05:50:50 WARN Client: Same path resource file:///root/.ivy2/jars/com.github.spotbugs_spotbugs-annotations-3.1.12.jar added multiple times to distributed cache.\n",
      "23/03/24 05:50:50 WARN Client: Same path resource file:///root/.ivy2/jars/com.google.code.findbugs_jsr305-3.0.2.jar added multiple times to distributed cache.\n",
      "23/03/24 05:50:50 WARN Client: Same path resource file:///root/.ivy2/jars/com.datastax.oss_java-driver-query-builder-4.13.0.jar added multiple times to distributed cache.\n"
     ]
    }
   ],
   "source": [
    "import findspark\n",
    "findspark.init(\"/usr/local/lib/spark-3.3.2-bin-hadoop3\")\n",
    "\n",
    "from pyspark import SparkConf\n",
    "from pyspark.sql.functions import *\n",
    "from pyspark.sql.types import *\n",
    "from pyspark.sql import *\n",
    "from pyspark.sql.functions import udf, col, from_json, pandas_udf, split\n",
    "\n",
    "session = SparkSession.builder \\\n",
    "    .appName(\"Jupyter_Notebook_2\") \\\n",
    "    .master(\"yarn\") \\\n",
    "    .config(\"spark.jars.packages\", \"org.apache.spark:spark-sql-kafka-0-10_2.12:3.3.2,com.datastax.spark:spark-cassandra-connector_2.12:3.3.0\") \\\n",
    "    .config(\"spark.hadoop.hive.exec.dynamic.partition.mode\", \"nonstrict\") \\\n",
    "    .enableHiveSupport() \\\n",
    "    .getOrCreate()"
   ]
  },
  {
   "cell_type": "markdown",
   "id": "571470e6-2614-4b1d-8879-49ae387a8289",
   "metadata": {},
   "source": [
    "### 2. Cassandra와 연결"
   ]
  },
  {
   "cell_type": "code",
   "execution_count": 106,
   "id": "cc3240ba-c9f8-4577-9111-617b8cd09472",
   "metadata": {
    "tags": []
   },
   "outputs": [
    {
     "name": "stdout",
     "output_type": "stream",
     "text": [
      "23/03/24 05:51:22 WARN DeprecatedConfigParameter: spark.cassandra.connection.keep_alive_ms is deprecated (DSE 6.0.0) and has been automatically replaced with parameter spark.cassandra.connection.keepAliveMS. \n",
      "23/03/24 05:51:22 WARN DeprecatedConfigParameter: spark.cassandra.connection.keep_alive_ms is deprecated (DSE 6.0.0) and has been automatically replaced with parameter spark.cassandra.connection.keepAliveMS. \n",
      "root\n",
      " |-- service_id: long (nullable = false)\n",
      " |-- creation_timestamp: timestamp (nullable = true)\n",
      " |-- session_id: string (nullable = true)\n",
      " |-- client_id: long (nullable = true)\n",
      " |-- event: string (nullable = true)\n",
      " |-- key: string (nullable = true)\n",
      " |-- location: string (nullable = true)\n",
      " |-- page_duration: long (nullable = true)\n",
      " |-- position_x: integer (nullable = true)\n",
      " |-- position_y: integer (nullable = true)\n",
      " |-- prev_location: string (nullable = true)\n",
      " |-- referrer: string (nullable = true)\n",
      " |-- service_token: string (nullable = true)\n",
      " |-- target_id: string (nullable = true)\n",
      "\n"
     ]
    }
   ],
   "source": [
    "cassandra_keyspace = \"tagmanager\"\n",
    "cassandra_table = \"stream\"\n",
    "\n",
    "batch_df = session.read \\\n",
    "      .format(\"org.apache.spark.sql.cassandra\") \\\n",
    "  .option(\"checkpointLocation\", \"/\") \\\n",
    "  .option(\"spark.cassandra.connection.host\", \"master01\") \\\n",
    "  .option(\"spark.cassandra.connection.port\", 9042) \\\n",
    "  .option(\"keyspace\", cassandra_keyspace) \\\n",
    "  .option(\"table\", cassandra_table) \\\n",
    "  .option(\"spark.cassandra.connection.remoteConnectionsPerExecutor\", 10) \\\n",
    "  .option(\"spark.cassandra.output.concurrent.writes\", 1000) \\\n",
    "  .option(\"spark.cassandra.concurrent.reads\", 512) \\\n",
    "  .option(\"spark.cassandra.output.batch.grouping.buffer.size\", 1000) \\\n",
    "  .option(\"spark.cassandra.connection.keep_alive_ms\", 600000000) \\\n",
    "      .load()\n",
    "batch_df.printSchema()"
   ]
  },
  {
   "cell_type": "markdown",
   "id": "ca858e34-8ec0-43fd-9adb-f999a345eecb",
   "metadata": {},
   "source": [
    "### 3. PySqark SQL을 이용해 쿼리 작성"
   ]
  },
  {
   "cell_type": "code",
   "execution_count": 107,
   "id": "fe7424e1-c751-4fce-9e9a-e4cf5d007606",
   "metadata": {
    "tags": []
   },
   "outputs": [],
   "source": [
    "session.conf.set(\"spark.sql.repl.eagerEval.maxStringLength\", 10000) "
   ]
  },
  {
   "cell_type": "code",
   "execution_count": 108,
   "id": "02a29e2e-5f73-45b7-8d14-9b9cd4e68e93",
   "metadata": {
    "tags": []
   },
   "outputs": [
    {
     "name": "stdout",
     "output_type": "stream",
     "text": [
      "23/03/24 05:51:24 WARN DeprecatedConfigParameter: spark.cassandra.connection.keep_alive_ms is deprecated (DSE 6.0.0) and has been automatically replaced with parameter spark.cassandra.connection.keepAliveMS. \n"
     ]
    },
    {
     "name": "stderr",
     "output_type": "stream",
     "text": [
      "[Stage 1:============================================>              (3 + 1) / 4]\r"
     ]
    },
    {
     "name": "stdout",
     "output_type": "stream",
     "text": [
      "+--------------------+\n",
      "|       prev_location|\n",
      "+--------------------+\n",
      "|http://localhost:...|\n",
      "|http://localhost:...|\n",
      "|http://localhost:...|\n",
      "|http://localhost:...|\n",
      "|http://localhost:...|\n",
      "|http://localhost:...|\n",
      "|http://localhost:...|\n",
      "|http://localhost:...|\n",
      "|http://localhost:...|\n",
      "|http://localhost:...|\n",
      "|http://localhost:...|\n",
      "|http://localhost:...|\n",
      "|http://localhost:...|\n",
      "|http://localhost:...|\n",
      "|http://localhost:...|\n",
      "|http://localhost:...|\n",
      "|http://localhost:...|\n",
      "|http://localhost:...|\n",
      "|http://localhost:...|\n",
      "|http://localhost:...|\n",
      "+--------------------+\n",
      "only showing top 20 rows\n",
      "\n"
     ]
    },
    {
     "name": "stderr",
     "output_type": "stream",
     "text": [
      "                                                                                \r"
     ]
    }
   ],
   "source": [
    "batch_df.select('prev_location').show()\n"
   ]
  },
  {
   "cell_type": "code",
   "execution_count": 109,
   "id": "556a1a89-aa85-4062-8e43-f852592fd94d",
   "metadata": {
    "tags": []
   },
   "outputs": [
    {
     "name": "stdout",
     "output_type": "stream",
     "text": [
      "23/03/24 05:53:23 WARN DeprecatedConfigParameter: spark.cassandra.connection.keep_alive_ms is deprecated (DSE 6.0.0) and has been automatically replaced with parameter spark.cassandra.connection.keepAliveMS. \n",
      "+----------+--------------------+---------------+---------+---------+--------------------+--------------------+-------------+----------+----------+--------------------+--------+--------------------+------------------+\n",
      "|service_id|  creation_timestamp|     session_id|client_id|    event|                 key|            location|page_duration|position_x|position_y|       prev_location|referrer|       service_token|         target_id|\n",
      "+----------+--------------------+---------------+---------+---------+--------------------+--------------------+-------------+----------+----------+--------------------+--------+--------------------+------------------+\n",
      "|         2|2023-03-24 01:39:...|test-session-id|        1|    click|test-session-id-1...|http://localhost:...|         1055|       879|       764|http://localhost:...|    none|tag-manager-servi...|button-second-view|\n",
      "|         2|2023-03-24 01:39:...|test-session-id|        1|    click|test-session-id-1...|http://localhost:...|          922|       881|       759|http://localhost:...|    none|tag-manager-servi...|button-second-view|\n",
      "|         2|2023-03-24 01:39:...|test-session-id|        1|    click|test-session-id-1...|http://localhost:...|          798|       881|       759|http://localhost:...|    none|tag-manager-servi...|button-second-view|\n",
      "|         2|2023-03-24 01:39:...|test-session-id|        1|    click|test-session-id-1...|http://localhost:...|          655|       881|       759|http://localhost:...|    none|tag-manager-servi...|button-second-view|\n",
      "|         2|2023-03-24 01:39:...|test-session-id|        1|pageleave|test-session-id-1...|http://localhost:...|          555|         0|         0|http://localhost:...|    none|tag-manager-servi...|              none|\n",
      "|         2|2023-03-24 01:39:...|test-session-id|        1|    click|test-session-id-1...|http://localhost:...|          552|       880|       743|http://localhost:...|    none|tag-manager-servi...|  button-to-second|\n",
      "|         2|2023-03-24 01:39:...|test-session-id|        1|pageenter|test-session-id-1...|http://localhost:...|            0|         0|         0|http://localhost:...|    none|tag-manager-servi...|              none|\n",
      "|         2|2023-03-24 01:39:...|test-session-id|        1|pageleave|test-session-id-1...|http://localhost:...|          447|         0|         0|http://localhost:...|    none|tag-manager-servi...|              none|\n",
      "|         2|2023-03-24 01:39:...|test-session-id|        1|    click|test-session-id-1...|http://localhost:...|          445|       870|       819|http://localhost:...|    none|tag-manager-servi...|button-second-back|\n",
      "|         2|2023-03-24 01:39:...|test-session-id|        1|pageenter|test-session-id-1...|http://localhost:...|            0|         0|         0|http://localhost:...|    none|tag-manager-servi...|              none|\n",
      "|         2|2023-03-24 01:39:...|test-session-id|        1|pageleave|test-session-id-1...|http://localhost:...|          424|         0|         0|http://localhost:...|    none|tag-manager-servi...|              none|\n",
      "|         2|2023-03-24 01:39:...|test-session-id|        1|    click|test-session-id-1...|http://localhost:...|          420|       880|       746|http://localhost:...|    none|tag-manager-servi...|  button-to-second|\n",
      "|         2|2023-03-24 01:39:...|test-session-id|        1|pageleave|test-session-id-1...|http://localhost:...|          759|         0|         0|http://localhost:...|    none|tag-manager-servi...|              none|\n",
      "|         2|2023-03-24 01:39:...|test-session-id|        1|    click|test-session-id-1...|http://localhost:...|          755|       871|       829|http://localhost:...|    none|tag-manager-servi...| button-first-back|\n",
      "|         2|2023-03-24 01:39:...|test-session-id|        1|pageleave|test-session-id-1...|http://localhost:...|          659|         0|         0|http://localhost:...|    none|tag-manager-servi...|              none|\n",
      "|         2|2023-03-24 01:39:...|test-session-id|        1|    click|test-session-id-1...|http://localhost:...|          657|       887|       718|http://localhost:...|    none|tag-manager-servi...|   button-to-first|\n",
      "|         2|2023-03-24 01:39:...|test-session-id|        1|pageenter|test-session-id-1...|http://localhost:...|            0|         0|         0|http://localhost:...|    none|tag-manager-servi...|              none|\n",
      "|         2|2023-03-24 01:39:...|test-session-id|        1|pageleave|test-session-id-1...|http://localhost:...|          709|         0|         0|http://localhost:...|    none|tag-manager-servi...|              none|\n",
      "|         2|2023-03-24 01:39:...|test-session-id|        1|    click|test-session-id-1...|http://localhost:...|          707|       882|       819|http://localhost:...|    none|tag-manager-servi...| button-first-back|\n",
      "|         2|2023-03-24 01:39:...|test-session-id|        1|pageleave|test-session-id-1...|http://localhost:...|          539|         0|         0|http://localhost:...|    none|tag-manager-servi...|              none|\n",
      "+----------+--------------------+---------------+---------+---------+--------------------+--------------------+-------------+----------+----------+--------------------+--------+--------------------+------------------+\n",
      "only showing top 20 rows\n",
      "\n"
     ]
    }
   ],
   "source": [
    "batch_df.show()"
   ]
  },
  {
   "cell_type": "code",
   "execution_count": 112,
   "id": "dd5f2842-3080-431c-b911-6b386a20a198",
   "metadata": {
    "tags": []
   },
   "outputs": [
    {
     "name": "stdout",
     "output_type": "stream",
     "text": [
      "23/03/24 05:53:56 WARN DeprecatedConfigParameter: spark.cassandra.connection.keep_alive_ms is deprecated (DSE 6.0.0) and has been automatically replaced with parameter spark.cassandra.connection.keepAliveMS. \n",
      "+----------+\n",
      "|service_id|\n",
      "+----------+\n",
      "|         2|\n",
      "+----------+\n",
      "\n"
     ]
    }
   ],
   "source": [
    "# distinct_df = df.groupBy(\"id\").agg(F.first(\"domain\").alias(\"domain\"))\n",
    "import pyspark.sql.functions as F\n",
    "batch_df.select('service_id').distinct().show()\n",
    "\n",
    "test = batch_df.groupBy(\"service_id\").agg(F.first(\"page_duration\").alias(\"page_duration\")).select(\"service_id\", \"page_duration\")"
   ]
  },
  {
   "cell_type": "code",
   "execution_count": 126,
   "id": "b332eeb1-6af9-4f29-ab38-701cc4ba23c4",
   "metadata": {
    "tags": []
   },
   "outputs": [
    {
     "ename": "AnalysisException",
     "evalue": "Table or view not found: batch_df; line 1 pos 57;\n'Aggregate ['target_id, 'referrer], ['target_id, 'referrer, count(1) AS click_count#6176L]\n+- 'UnresolvedRelation [batch_df], [], false\n",
     "output_type": "error",
     "traceback": [
      "\u001b[0;31m---------------------------------------------------------------------------\u001b[0m",
      "\u001b[0;31mAnalysisException\u001b[0m                         Traceback (most recent call last)",
      "Cell \u001b[0;32mIn[126], line 2\u001b[0m\n\u001b[1;32m      1\u001b[0m \u001b[38;5;66;03m#컴퓨넌트이름, 업데이트시간, 페이지경로\u001b[39;00m\n\u001b[0;32m----> 2\u001b[0m \u001b[43msession\u001b[49m\u001b[38;5;241;43m.\u001b[39;49m\u001b[43msql\u001b[49m\u001b[43m(\u001b[49m\u001b[38;5;124;43m\"\u001b[39;49m\u001b[38;5;124;43mSELECT target_id, referrer, count(*) as click_count FROM batch_df GROUP BY target_id, referrer\u001b[39;49m\u001b[38;5;124;43m\"\u001b[39;49m\u001b[43m)\u001b[49m\u001b[38;5;241m.\u001b[39mshow()\n\u001b[1;32m      3\u001b[0m \u001b[38;5;66;03m# test.show()\u001b[39;00m\n\u001b[1;32m      4\u001b[0m \n\u001b[1;32m      5\u001b[0m \u001b[38;5;66;03m# from pyspark.sql.functions import count\u001b[39;00m\n\u001b[1;32m      6\u001b[0m \n\u001b[1;32m      7\u001b[0m \u001b[38;5;66;03m# batch_df.groupBy(\"target_id\", \"referrer\").agg(count(\"*\").alias(\"카운트\")).show()\u001b[39;00m\n",
      "File \u001b[0;32m/usr/local/lib/spark-3.3.2-bin-hadoop3/python/pyspark/sql/session.py:1034\u001b[0m, in \u001b[0;36mSparkSession.sql\u001b[0;34m(self, sqlQuery, **kwargs)\u001b[0m\n\u001b[1;32m   1032\u001b[0m     sqlQuery \u001b[38;5;241m=\u001b[39m formatter\u001b[38;5;241m.\u001b[39mformat(sqlQuery, \u001b[38;5;241m*\u001b[39m\u001b[38;5;241m*\u001b[39mkwargs)\n\u001b[1;32m   1033\u001b[0m \u001b[38;5;28;01mtry\u001b[39;00m:\n\u001b[0;32m-> 1034\u001b[0m     \u001b[38;5;28;01mreturn\u001b[39;00m DataFrame(\u001b[38;5;28;43mself\u001b[39;49m\u001b[38;5;241;43m.\u001b[39;49m\u001b[43m_jsparkSession\u001b[49m\u001b[38;5;241;43m.\u001b[39;49m\u001b[43msql\u001b[49m\u001b[43m(\u001b[49m\u001b[43msqlQuery\u001b[49m\u001b[43m)\u001b[49m, \u001b[38;5;28mself\u001b[39m)\n\u001b[1;32m   1035\u001b[0m \u001b[38;5;28;01mfinally\u001b[39;00m:\n\u001b[1;32m   1036\u001b[0m     \u001b[38;5;28;01mif\u001b[39;00m \u001b[38;5;28mlen\u001b[39m(kwargs) \u001b[38;5;241m>\u001b[39m \u001b[38;5;241m0\u001b[39m:\n",
      "File \u001b[0;32m/usr/local/lib/spark-3.3.2-bin-hadoop3/python/lib/py4j-0.10.9.5-src.zip/py4j/java_gateway.py:1321\u001b[0m, in \u001b[0;36mJavaMember.__call__\u001b[0;34m(self, *args)\u001b[0m\n\u001b[1;32m   1315\u001b[0m command \u001b[38;5;241m=\u001b[39m proto\u001b[38;5;241m.\u001b[39mCALL_COMMAND_NAME \u001b[38;5;241m+\u001b[39m\\\n\u001b[1;32m   1316\u001b[0m     \u001b[38;5;28mself\u001b[39m\u001b[38;5;241m.\u001b[39mcommand_header \u001b[38;5;241m+\u001b[39m\\\n\u001b[1;32m   1317\u001b[0m     args_command \u001b[38;5;241m+\u001b[39m\\\n\u001b[1;32m   1318\u001b[0m     proto\u001b[38;5;241m.\u001b[39mEND_COMMAND_PART\n\u001b[1;32m   1320\u001b[0m answer \u001b[38;5;241m=\u001b[39m \u001b[38;5;28mself\u001b[39m\u001b[38;5;241m.\u001b[39mgateway_client\u001b[38;5;241m.\u001b[39msend_command(command)\n\u001b[0;32m-> 1321\u001b[0m return_value \u001b[38;5;241m=\u001b[39m \u001b[43mget_return_value\u001b[49m\u001b[43m(\u001b[49m\n\u001b[1;32m   1322\u001b[0m \u001b[43m    \u001b[49m\u001b[43manswer\u001b[49m\u001b[43m,\u001b[49m\u001b[43m \u001b[49m\u001b[38;5;28;43mself\u001b[39;49m\u001b[38;5;241;43m.\u001b[39;49m\u001b[43mgateway_client\u001b[49m\u001b[43m,\u001b[49m\u001b[43m \u001b[49m\u001b[38;5;28;43mself\u001b[39;49m\u001b[38;5;241;43m.\u001b[39;49m\u001b[43mtarget_id\u001b[49m\u001b[43m,\u001b[49m\u001b[43m \u001b[49m\u001b[38;5;28;43mself\u001b[39;49m\u001b[38;5;241;43m.\u001b[39;49m\u001b[43mname\u001b[49m\u001b[43m)\u001b[49m\n\u001b[1;32m   1324\u001b[0m \u001b[38;5;28;01mfor\u001b[39;00m temp_arg \u001b[38;5;129;01min\u001b[39;00m temp_args:\n\u001b[1;32m   1325\u001b[0m     temp_arg\u001b[38;5;241m.\u001b[39m_detach()\n",
      "File \u001b[0;32m/usr/local/lib/spark-3.3.2-bin-hadoop3/python/pyspark/sql/utils.py:196\u001b[0m, in \u001b[0;36mcapture_sql_exception.<locals>.deco\u001b[0;34m(*a, **kw)\u001b[0m\n\u001b[1;32m    192\u001b[0m converted \u001b[38;5;241m=\u001b[39m convert_exception(e\u001b[38;5;241m.\u001b[39mjava_exception)\n\u001b[1;32m    193\u001b[0m \u001b[38;5;28;01mif\u001b[39;00m \u001b[38;5;129;01mnot\u001b[39;00m \u001b[38;5;28misinstance\u001b[39m(converted, UnknownException):\n\u001b[1;32m    194\u001b[0m     \u001b[38;5;66;03m# Hide where the exception came from that shows a non-Pythonic\u001b[39;00m\n\u001b[1;32m    195\u001b[0m     \u001b[38;5;66;03m# JVM exception message.\u001b[39;00m\n\u001b[0;32m--> 196\u001b[0m     \u001b[38;5;28;01mraise\u001b[39;00m converted \u001b[38;5;28;01mfrom\u001b[39;00m \u001b[38;5;28mNone\u001b[39m\n\u001b[1;32m    197\u001b[0m \u001b[38;5;28;01melse\u001b[39;00m:\n\u001b[1;32m    198\u001b[0m     \u001b[38;5;28;01mraise\u001b[39;00m\n",
      "\u001b[0;31mAnalysisException\u001b[0m: Table or view not found: batch_df; line 1 pos 57;\n'Aggregate ['target_id, 'referrer], ['target_id, 'referrer, count(1) AS click_count#6176L]\n+- 'UnresolvedRelation [batch_df], [], false\n"
     ]
    }
   ],
   "source": [
    "\n",
    "#컴퓨넌트이름, 업데이트시간, 페이지경로\n",
    "session.sql(\"SELECT target_id, referrer, count(*) as click_count FROM batch_df GROUP BY target_id, referrer\").show()\n",
    "# test.show()\n",
    "\n",
    "# from pyspark.sql.functions import count\n",
    "\n",
    "# batch_df.groupBy(\"target_id\", \"referrer\").agg(count(\"*\").alias(\"카운트\")).show()\n"
   ]
  },
  {
   "cell_type": "code",
   "execution_count": 138,
   "id": "ed0b94c3-99a8-42e0-b53b-af829ebbc4c7",
   "metadata": {
    "tags": []
   },
   "outputs": [
    {
     "name": "stdout",
     "output_type": "stream",
     "text": [
      "해당 시간 사이의 모든 데이터 조회\n",
      "23/03/24 06:13:22 WARN DeprecatedConfigParameter: spark.cassandra.connection.keep_alive_ms is deprecated (DSE 6.0.0) and has been automatically replaced with parameter spark.cassandra.connection.keepAliveMS. \n",
      "+----------+--------------------+---------------+---------+---------+--------------------+--------------------+-------------+----------+----------+--------------------+--------+--------------------+------------------+\n",
      "|service_id|  creation_timestamp|     session_id|client_id|    event|                 key|            location|page_duration|position_x|position_y|       prev_location|referrer|       service_token|         target_id|\n",
      "+----------+--------------------+---------------+---------+---------+--------------------+--------------------+-------------+----------+----------+--------------------+--------+--------------------+------------------+\n",
      "|         2|2023-03-24 01:39:...|test-session-id|        1|    click|test-session-id-1...|http://localhost:...|         1055|       879|       764|http://localhost:...|    none|tag-manager-servi...|button-second-view|\n",
      "|         2|2023-03-24 01:39:...|test-session-id|        1|    click|test-session-id-1...|http://localhost:...|          922|       881|       759|http://localhost:...|    none|tag-manager-servi...|button-second-view|\n",
      "|         2|2023-03-24 01:39:...|test-session-id|        1|    click|test-session-id-1...|http://localhost:...|          798|       881|       759|http://localhost:...|    none|tag-manager-servi...|button-second-view|\n",
      "|         2|2023-03-24 01:39:...|test-session-id|        1|    click|test-session-id-1...|http://localhost:...|          655|       881|       759|http://localhost:...|    none|tag-manager-servi...|button-second-view|\n",
      "|         2|2023-03-24 01:39:...|test-session-id|        1|pageleave|test-session-id-1...|http://localhost:...|          555|         0|         0|http://localhost:...|    none|tag-manager-servi...|              none|\n",
      "|         2|2023-03-24 01:39:...|test-session-id|        1|    click|test-session-id-1...|http://localhost:...|          552|       880|       743|http://localhost:...|    none|tag-manager-servi...|  button-to-second|\n",
      "|         2|2023-03-24 01:39:...|test-session-id|        1|pageenter|test-session-id-1...|http://localhost:...|            0|         0|         0|http://localhost:...|    none|tag-manager-servi...|              none|\n",
      "|         2|2023-03-24 01:39:...|test-session-id|        1|pageleave|test-session-id-1...|http://localhost:...|          447|         0|         0|http://localhost:...|    none|tag-manager-servi...|              none|\n",
      "|         2|2023-03-24 01:39:...|test-session-id|        1|    click|test-session-id-1...|http://localhost:...|          445|       870|       819|http://localhost:...|    none|tag-manager-servi...|button-second-back|\n",
      "|         2|2023-03-24 01:39:...|test-session-id|        1|pageenter|test-session-id-1...|http://localhost:...|            0|         0|         0|http://localhost:...|    none|tag-manager-servi...|              none|\n",
      "|         2|2023-03-24 01:39:...|test-session-id|        1|pageleave|test-session-id-1...|http://localhost:...|          424|         0|         0|http://localhost:...|    none|tag-manager-servi...|              none|\n",
      "|         2|2023-03-24 01:39:...|test-session-id|        1|    click|test-session-id-1...|http://localhost:...|          420|       880|       746|http://localhost:...|    none|tag-manager-servi...|  button-to-second|\n",
      "|         2|2023-03-24 01:39:...|test-session-id|        1|pageleave|test-session-id-1...|http://localhost:...|          759|         0|         0|http://localhost:...|    none|tag-manager-servi...|              none|\n",
      "|         2|2023-03-24 01:39:...|test-session-id|        1|    click|test-session-id-1...|http://localhost:...|          755|       871|       829|http://localhost:...|    none|tag-manager-servi...| button-first-back|\n",
      "|         2|2023-03-24 01:39:...|test-session-id|        1|pageleave|test-session-id-1...|http://localhost:...|          659|         0|         0|http://localhost:...|    none|tag-manager-servi...|              none|\n",
      "|         2|2023-03-24 01:39:...|test-session-id|        1|    click|test-session-id-1...|http://localhost:...|          657|       887|       718|http://localhost:...|    none|tag-manager-servi...|   button-to-first|\n",
      "|         2|2023-03-24 01:39:...|test-session-id|        1|pageenter|test-session-id-1...|http://localhost:...|            0|         0|         0|http://localhost:...|    none|tag-manager-servi...|              none|\n",
      "|         2|2023-03-24 01:39:...|test-session-id|        1|pageleave|test-session-id-1...|http://localhost:...|          709|         0|         0|http://localhost:...|    none|tag-manager-servi...|              none|\n",
      "|         2|2023-03-24 01:39:...|test-session-id|        1|    click|test-session-id-1...|http://localhost:...|          707|       882|       819|http://localhost:...|    none|tag-manager-servi...| button-first-back|\n",
      "|         2|2023-03-24 01:39:...|test-session-id|        1|pageleave|test-session-id-1...|http://localhost:...|          539|         0|         0|http://localhost:...|    none|tag-manager-servi...|              none|\n",
      "+----------+--------------------+---------------+---------+---------+--------------------+--------------------+-------------+----------+----------+--------------------+--------+--------------------+------------------+\n",
      "only showing top 20 rows\n",
      "\n",
      "해당 시간 사이에 http://localhost:3000/second에서 일어난 click 이벤트 조회\n",
      "23/03/24 06:13:22 WARN DeprecatedConfigParameter: spark.cassandra.connection.keep_alive_ms is deprecated (DSE 6.0.0) and has been automatically replaced with parameter spark.cassandra.connection.keepAliveMS. \n",
      "+----------+--------------------+---------------+---------+-----+--------------------+--------------------+-------------+----------+----------+--------------------+--------+--------------------+------------------+\n",
      "|service_id|  creation_timestamp|     session_id|client_id|event|                 key|            location|page_duration|position_x|position_y|       prev_location|referrer|       service_token|         target_id|\n",
      "+----------+--------------------+---------------+---------+-----+--------------------+--------------------+-------------+----------+----------+--------------------+--------+--------------------+------------------+\n",
      "|         2|2023-03-24 01:39:...|test-session-id|        1|click|test-session-id-1...|http://localhost:...|         1055|       879|       764|http://localhost:...|    none|tag-manager-servi...|button-second-view|\n",
      "|         2|2023-03-24 01:39:...|test-session-id|        1|click|test-session-id-1...|http://localhost:...|          922|       881|       759|http://localhost:...|    none|tag-manager-servi...|button-second-view|\n",
      "|         2|2023-03-24 01:39:...|test-session-id|        1|click|test-session-id-1...|http://localhost:...|          798|       881|       759|http://localhost:...|    none|tag-manager-servi...|button-second-view|\n",
      "|         2|2023-03-24 01:39:...|test-session-id|        1|click|test-session-id-1...|http://localhost:...|          655|       881|       759|http://localhost:...|    none|tag-manager-servi...|button-second-view|\n",
      "|         2|2023-03-24 01:39:...|test-session-id|        1|click|test-session-id-1...|http://localhost:...|          445|       870|       819|http://localhost:...|    none|tag-manager-servi...|button-second-back|\n",
      "|         2|2023-03-24 01:39:...|test-session-id|        1|click|test-session-id-1...|http://localhost:...|          567|       874|       828|http://localhost:...|    none|tag-manager-servi...|button-second-back|\n",
      "|         2|2023-03-24 01:39:...|test-session-id|        1|click|test-session-id-1...|http://localhost:...|         7591|       885|       812|http://localhost:...|    none|tag-manager-servi...|button-second-back|\n",
      "|         2|2023-03-24 01:39:...|test-session-id|        1|click|test-session-id-1...|http://localhost:...|         7221|       912|       762|http://localhost:...|    none|tag-manager-servi...|button-second-view|\n",
      "|         2|2023-03-24 01:39:...|test-session-id|        1|click|test-session-id-1...|http://localhost:...|         7092|       912|       762|http://localhost:...|    none|tag-manager-servi...|button-second-view|\n",
      "|         2|2023-03-24 01:39:...|test-session-id|        1|click|test-session-id-1...|http://localhost:...|      2058215|       868|       821|                none|    none|tag-manager-servi...|button-second-back|\n",
      "|         2|2023-03-24 01:39:...|test-session-id|        1|click|test-session-id-1...|http://localhost:...|      2057813|       826|       770|                none|    none|tag-manager-servi...|button-second-view|\n",
      "+----------+--------------------+---------------+---------+-----+--------------------+--------------------+-------------+----------+----------+--------------------+--------+--------------------+------------------+\n",
      "\n",
      "해당 시간 사이에 http://localhost:3000/second에 접속한 사용자 조회\n",
      "23/03/24 06:13:22 WARN DeprecatedConfigParameter: spark.cassandra.connection.keep_alive_ms is deprecated (DSE 6.0.0) and has been automatically replaced with parameter spark.cassandra.connection.keepAliveMS. \n",
      "+----------+\n",
      "|session_id|\n",
      "+----------+\n",
      "+----------+\n",
      "\n",
      "23/03/24 06:13:22 WARN DeprecatedConfigParameter: spark.cassandra.connection.keep_alive_ms is deprecated (DSE 6.0.0) and has been automatically replaced with parameter spark.cassandra.connection.keepAliveMS. \n",
      "+--------------------+---------+-----+\n",
      "|            location|    event|count|\n",
      "+--------------------+---------+-----+\n",
      "|http://localhost:...|pageleave|    6|\n",
      "|http://localhost:...|pageenter|    3|\n",
      "|http://localhost:...|    click|    6|\n",
      "|http://localhost:...|pageenter|    2|\n",
      "|http://localhost:...|    click|   11|\n",
      "|http://localhost:...|pageleave|    2|\n",
      "|http://localhost:...|    click|    2|\n",
      "|http://localhost:...|pageleave|    4|\n",
      "+--------------------+---------+-----+\n",
      "\n",
      "23/03/24 06:13:22 WARN DeprecatedConfigParameter: spark.cassandra.connection.keep_alive_ms is deprecated (DSE 6.0.0) and has been automatically replaced with parameter spark.cassandra.connection.keepAliveMS. \n",
      "+---------------+--------------------+--------------------+--------+\n",
      "|     session_id|       service_leave|       service_enter|duration|\n",
      "+---------------+--------------------+--------------------+--------+\n",
      "|test-session-id|2023-03-24 01:39:...|2023-03-24 01:39:...|      15|\n",
      "+---------------+--------------------+--------------------+--------+\n",
      "\n",
      "# session_id 기준으로 해당 시간동안의 페이지 체류시간 연산\n",
      "23/03/24 06:13:23 WARN DeprecatedConfigParameter: spark.cassandra.connection.keep_alive_ms is deprecated (DSE 6.0.0) and has been automatically replaced with parameter spark.cassandra.connection.keepAliveMS. \n",
      "+--------------------+---------------+----------------------------------------+\n",
      "|            location|     session_id|(avg(page_duration) AS duration * 0.001)|\n",
      "+--------------------+---------------+----------------------------------------+\n",
      "|http://localhost:...|test-session-id|                      0.6880000000000001|\n",
      "|http://localhost:...|test-session-id|                      326.86026315789474|\n",
      "|http://localhost:...|test-session-id|                      0.4380909090909091|\n",
      "+--------------------+---------------+----------------------------------------+\n",
      "\n"
     ]
    }
   ],
   "source": [
    "from datetime import datetime\n",
    "from datetime import timedelta\n",
    "\n",
    "# 간편한 between 연산을 위해 만든 유틸리티 함수\n",
    "# base_time: 기준 시간\n",
    "# interval: 기분 시간으로부터 얼마나 조회를 할 지의 범위\n",
    "# 초, 분, 시 등의 단위\n",
    "# ex. timestamp_range(\"2023-03-21 13:49:00\", 10, 'm') => 2023-03-21 13:49:00 부터 10분 이후의 시간까지\n",
    "def timestamp_range(base_time, interval, unit):\n",
    "    dt_obj = datetime.strptime(base_time, '%Y-%m-%d %H:%M:%S')\n",
    "    if unit=='s':\n",
    "        if interval>=0:\n",
    "            return (dt_obj, dt_obj+timedelta(seconds=interval))\n",
    "        else:\n",
    "            return (dt_obj-timedelta(seconds=-interval), dt_obj)\n",
    "    if unit=='m':\n",
    "        if interval>=0:\n",
    "            return (dt_obj, dt_obj+timedelta(minutes=interval))\n",
    "        else:\n",
    "            return (dt_obj-timedelta(minutes=-interval), dt_obj)\n",
    "    if unit=='H':\n",
    "        if interval>=0:\n",
    "            return (dt_obj, dt_obj+timedelta(hours=interval))\n",
    "        else:\n",
    "            return (dt_obj-timedelta(hours=-interval), dt_obj)\n",
    "    if unit=='D':\n",
    "        if interval>=0:\n",
    "            return (dt_obj, dt_obj+timedelta(days=interval))\n",
    "        else:\n",
    "            return (dt_obj-timedelta(days=-interval), dt_obj)\n",
    "    if unit=='M':\n",
    "        if interval>=0:\n",
    "            return (dt_obj, dt_obj+timedelta(months=interval))\n",
    "        else:\n",
    "            return (dt_obj-timedelta(months=-interval), dt_obj)\n",
    "    if unit=='Y':\n",
    "        if interval>=0:\n",
    "            return (dt_obj, dt_obj+timedelta(years=interval))\n",
    "        else:\n",
    "            return (dt_obj-timedelta(years=-interval), dt_obj)\n",
    "\n",
    "\n",
    "base_time = \"2023-03-24 01:39:00\"\n",
    "\n",
    "# 해당 시간 사이의 모든 데이터 조회\n",
    "print(\"해당 시간 사이의 모든 데이터 조회\")\n",
    "batch_df.select(\"*\") \\\n",
    "    .where(col(\"creation_timestamp\") \\\n",
    "            .between(*timestamp_range(base_time, 1, 'm'))) \\\n",
    "    .show()\n",
    "\n",
    "# 해당 시간 사이에 http://localhost:3000/second에서 일어난 click 이벤트 조회\n",
    "\n",
    "print(\"해당 시간 사이에 http://localhost:3000/second에서 일어난 click 이벤트 조회\")\n",
    "batch_df.select(\"*\") \\\n",
    "    .where(col(\"creation_timestamp\") \\\n",
    "            .between(*timestamp_range(base_time, 1, 'm'))) \\\n",
    "    .where(col(\"location\") \\\n",
    "           .like(\"http://localhost:3000/second\")) \\\n",
    "    .where(col(\"event\") \\\n",
    "           .like(\"click\")) \\\n",
    "    .show()\n",
    "\n",
    "# 해당 시간 사이에 http://localhost:3000/second에 접속한 사용자 조회\n",
    "print(\"해당 시간 사이에 http://localhost:3000/second에 접속한 사용자 조회\")\n",
    "batch_df.select(\"*\") \\\n",
    "    .where(col(\"creation_timestamp\") \\\n",
    "            .between(*timestamp_range(base_time, -30, 'm'))) \\\n",
    "    .where(col(\"location\") \\\n",
    "            .like(\"http://localhost:3000/second\")) \\\n",
    "    .select(\"session_id\").distinct() \\\n",
    "    .show()\n",
    "\n",
    "# location, event 기준으로 그룹핑 후 개수 세기\n",
    "batch_df.select(\"*\") \\\n",
    "    .where(col(\"creation_timestamp\") \\\n",
    "            .between(*timestamp_range(base_time, 1, 'D'))) \\\n",
    "    .groupBy(\"location\", \"event\").count() \\\n",
    "    .show()\n",
    "\n",
    "# session_id 기준으로 해당 시간동안의 서비스 체류시간 연산\n",
    "batch_df.select(\"*\") \\\n",
    "    .where(col(\"creation_timestamp\") \\\n",
    "            .between(*timestamp_range(base_time, 1, 'D'))) \\\n",
    "    .groupBy(\"session_id\").agg( \\\n",
    "        max(\"creation_timestamp\").alias(\"service_leave\"), \\\n",
    "        min(\"creation_timestamp\").alias(\"service_enter\") \\\n",
    "     ).withColumn(\"duration\", (col(\"service_leave\")-col(\"service_enter\")).cast(\"long\")) \\\n",
    "    .show()\n",
    "\n",
    "# session_id 기준으로 해당 시간동안의 페이지 체류시간 연산\n",
    "\n",
    "print(\"# session_id 기준으로 해당 시간동안의 페이지 체류시간 연산\")\n",
    "batch_df.select(\"*\") \\\n",
    "    .where(col(\"creation_timestamp\") \\\n",
    "            .between(*timestamp_range(base_time, 1, 'D'))) \\\n",
    "    .groupBy(\"location\", \"session_id\").agg( \\\n",
    "        avg(\"page_duration\").alias(\"duration\")*0.001\n",
    "    ).show()\n"
   ]
  },
  {
   "cell_type": "code",
   "execution_count": 139,
   "id": "16a70a40-b26d-48ce-824a-d82e4d64330c",
   "metadata": {
    "tags": []
   },
   "outputs": [
    {
     "name": "stdout",
     "output_type": "stream",
     "text": [
      "23/03/24 06:13:29 WARN DeprecatedConfigParameter: spark.cassandra.connection.keep_alive_ms is deprecated (DSE 6.0.0) and has been automatically replaced with parameter spark.cassandra.connection.keepAliveMS. \n",
      "+----------+--------------------+---------------+---------+---------+--------------------+--------------------+-------------+----------+----------+--------------------+--------+--------------------+------------------+\n",
      "|service_id|  creation_timestamp|     session_id|client_id|    event|                 key|            location|page_duration|position_x|position_y|       prev_location|referrer|       service_token|         target_id|\n",
      "+----------+--------------------+---------------+---------+---------+--------------------+--------------------+-------------+----------+----------+--------------------+--------+--------------------+------------------+\n",
      "|         2|2023-03-24 01:39:...|test-session-id|        1|    click|test-session-id-1...|http://localhost:...|         1055|       879|       764|http://localhost:...|    none|tag-manager-servi...|button-second-view|\n",
      "|         2|2023-03-24 01:39:...|test-session-id|        1|    click|test-session-id-1...|http://localhost:...|          922|       881|       759|http://localhost:...|    none|tag-manager-servi...|button-second-view|\n",
      "|         2|2023-03-24 01:39:...|test-session-id|        1|    click|test-session-id-1...|http://localhost:...|          798|       881|       759|http://localhost:...|    none|tag-manager-servi...|button-second-view|\n",
      "|         2|2023-03-24 01:39:...|test-session-id|        1|    click|test-session-id-1...|http://localhost:...|          655|       881|       759|http://localhost:...|    none|tag-manager-servi...|button-second-view|\n",
      "|         2|2023-03-24 01:39:...|test-session-id|        1|pageleave|test-session-id-1...|http://localhost:...|          555|         0|         0|http://localhost:...|    none|tag-manager-servi...|              none|\n",
      "|         2|2023-03-24 01:39:...|test-session-id|        1|    click|test-session-id-1...|http://localhost:...|          552|       880|       743|http://localhost:...|    none|tag-manager-servi...|  button-to-second|\n",
      "|         2|2023-03-24 01:39:...|test-session-id|        1|pageenter|test-session-id-1...|http://localhost:...|            0|         0|         0|http://localhost:...|    none|tag-manager-servi...|              none|\n",
      "|         2|2023-03-24 01:39:...|test-session-id|        1|pageleave|test-session-id-1...|http://localhost:...|          447|         0|         0|http://localhost:...|    none|tag-manager-servi...|              none|\n",
      "|         2|2023-03-24 01:39:...|test-session-id|        1|    click|test-session-id-1...|http://localhost:...|          445|       870|       819|http://localhost:...|    none|tag-manager-servi...|button-second-back|\n",
      "|         2|2023-03-24 01:39:...|test-session-id|        1|pageenter|test-session-id-1...|http://localhost:...|            0|         0|         0|http://localhost:...|    none|tag-manager-servi...|              none|\n",
      "|         2|2023-03-24 01:39:...|test-session-id|        1|pageleave|test-session-id-1...|http://localhost:...|          424|         0|         0|http://localhost:...|    none|tag-manager-servi...|              none|\n",
      "|         2|2023-03-24 01:39:...|test-session-id|        1|    click|test-session-id-1...|http://localhost:...|          420|       880|       746|http://localhost:...|    none|tag-manager-servi...|  button-to-second|\n",
      "|         2|2023-03-24 01:39:...|test-session-id|        1|pageleave|test-session-id-1...|http://localhost:...|          759|         0|         0|http://localhost:...|    none|tag-manager-servi...|              none|\n",
      "|         2|2023-03-24 01:39:...|test-session-id|        1|    click|test-session-id-1...|http://localhost:...|          755|       871|       829|http://localhost:...|    none|tag-manager-servi...| button-first-back|\n",
      "|         2|2023-03-24 01:39:...|test-session-id|        1|pageleave|test-session-id-1...|http://localhost:...|          659|         0|         0|http://localhost:...|    none|tag-manager-servi...|              none|\n",
      "|         2|2023-03-24 01:39:...|test-session-id|        1|    click|test-session-id-1...|http://localhost:...|          657|       887|       718|http://localhost:...|    none|tag-manager-servi...|   button-to-first|\n",
      "|         2|2023-03-24 01:39:...|test-session-id|        1|pageenter|test-session-id-1...|http://localhost:...|            0|         0|         0|http://localhost:...|    none|tag-manager-servi...|              none|\n",
      "|         2|2023-03-24 01:39:...|test-session-id|        1|pageleave|test-session-id-1...|http://localhost:...|          709|         0|         0|http://localhost:...|    none|tag-manager-servi...|              none|\n",
      "|         2|2023-03-24 01:39:...|test-session-id|        1|    click|test-session-id-1...|http://localhost:...|          707|       882|       819|http://localhost:...|    none|tag-manager-servi...| button-first-back|\n",
      "|         2|2023-03-24 01:39:...|test-session-id|        1|pageleave|test-session-id-1...|http://localhost:...|          539|         0|         0|http://localhost:...|    none|tag-manager-servi...|              none|\n",
      "+----------+--------------------+---------------+---------+---------+--------------------+--------------------+-------------+----------+----------+--------------------+--------+--------------------+------------------+\n",
      "only showing top 20 rows\n",
      "\n"
     ]
    }
   ],
   "source": [
    "batch_df.show()"
   ]
  },
  {
   "cell_type": "code",
   "execution_count": 158,
   "id": "39d26da7-51f6-4d47-a6d0-dd1c23cf78e2",
   "metadata": {
    "tags": []
   },
   "outputs": [
    {
     "name": "stdout",
     "output_type": "stream",
     "text": [
      "해당 시간 사이에 http://localhost:3000/second에서 컴포넌트 조회\n",
      "23/03/24 07:57:26 WARN DeprecatedConfigParameter: spark.cassandra.connection.keep_alive_ms is deprecated (DSE 6.0.0) and has been automatically replaced with parameter spark.cassandra.connection.keepAliveMS. \n",
      "+------------------+--------------------+-----------+----------+--------------------+\n",
      "|         target_id|            location|click_count|service_id|    update_timestamp|\n",
      "+------------------+--------------------+-----------+----------+--------------------+\n",
      "| button-first-back|http://localhost:...|          2|         2|2023-03-24 07:57:...|\n",
      "|   button-to-first|http://localhost:...|          2|         2|2023-03-24 07:57:...|\n",
      "|button-second-back|http://localhost:...|          4|         2|2023-03-24 07:57:...|\n",
      "|button-second-view|http://localhost:...|          7|         2|2023-03-24 07:57:...|\n",
      "|  button-to-second|http://localhost:...|          4|         2|2023-03-24 07:57:...|\n",
      "+------------------+--------------------+-----------+----------+--------------------+\n",
      "\n",
      "해당 시간 사이에 마우스 클릭\n",
      "23/03/24 07:57:26 WARN DeprecatedConfigParameter: spark.cassandra.connection.keep_alive_ms is deprecated (DSE 6.0.0) and has been automatically replaced with parameter spark.cassandra.connection.keepAliveMS. \n",
      "+----------+----------+----------+--------------------+--------------------+\n",
      "|position_x|position_y|service_id|            location|    update_timestamp|\n",
      "+----------+----------+----------+--------------------+--------------------+\n",
      "|       870|       819|         2|http://localhost:...|2023-03-24 07:57:...|\n",
      "|       874|       828|         2|http://localhost:...|2023-03-24 07:57:...|\n",
      "|       878|       757|         2|http://localhost:...|2023-03-24 07:57:...|\n",
      "|       880|       746|         2|http://localhost:...|2023-03-24 07:57:...|\n",
      "|       887|       718|         2|http://localhost:...|2023-03-24 07:57:...|\n",
      "|       890|       749|         2|http://localhost:...|2023-03-24 07:57:...|\n",
      "|       880|       703|         2|http://localhost:...|2023-03-24 07:57:...|\n",
      "|       871|       829|         2|http://localhost:...|2023-03-24 07:57:...|\n",
      "|       879|       764|         2|http://localhost:...|2023-03-24 07:57:...|\n",
      "|       882|       819|         2|http://localhost:...|2023-03-24 07:57:...|\n",
      "|       881|       759|         2|http://localhost:...|2023-03-24 07:57:...|\n",
      "|       826|       770|         2|http://localhost:...|2023-03-24 07:57:...|\n",
      "|       880|       743|         2|http://localhost:...|2023-03-24 07:57:...|\n",
      "|       912|       762|         2|http://localhost:...|2023-03-24 07:57:...|\n",
      "|       868|       821|         2|http://localhost:...|2023-03-24 07:57:...|\n",
      "|       885|       812|         2|http://localhost:...|2023-03-24 07:57:...|\n",
      "+----------+----------+----------+--------------------+--------------------+\n",
      "\n"
     ]
    }
   ],
   "source": [
    "from datetime import datetime\n",
    "from datetime import timedelta\n",
    "\n",
    "# 간편한 between 연산을 위해 만든 유틸리티 함수\n",
    "# base_time: 기준 시간\n",
    "# interval: 기분 시간으로부터 얼마나 조회를 할 지의 범위\n",
    "# 초, 분, 시 등의 단위\n",
    "# ex. timestamp_range(\"2023-03-21 13:49:00\", 10, 'm') => 2023-03-21 13:49:00 부터 10분 이후의 시간까지\n",
    "def timestamp_range(base_time, interval, unit):\n",
    "    dt_obj = datetime.strptime(base_time, '%Y-%m-%d %H:%M:%S')\n",
    "    if unit=='s':\n",
    "        if interval>=0:\n",
    "            return (dt_obj, dt_obj+timedelta(seconds=interval))\n",
    "        else:\n",
    "            return (dt_obj-timedelta(seconds=-interval), dt_obj)\n",
    "    if unit=='m':\n",
    "        if interval>=0:\n",
    "            return (dt_obj, dt_obj+timedelta(minutes=interval))\n",
    "        else:\n",
    "            return (dt_obj-timedelta(minutes=-interval), dt_obj)\n",
    "    if unit=='H':\n",
    "        if interval>=0:\n",
    "            return (dt_obj, dt_obj+timedelta(hours=interval))\n",
    "        else:\n",
    "            return (dt_obj-timedelta(hours=-interval), dt_obj)\n",
    "    if unit=='D':\n",
    "        if interval>=0:\n",
    "            return (dt_obj, dt_obj+timedelta(days=interval))\n",
    "        else:\n",
    "            return (dt_obj-timedelta(days=-interval), dt_obj)\n",
    "    if unit=='M':\n",
    "        if interval>=0:\n",
    "            return (dt_obj, dt_obj+timedelta(months=interval))\n",
    "        else:\n",
    "            return (dt_obj-timedelta(months=-interval), dt_obj)\n",
    "    if unit=='Y':\n",
    "        if interval>=0:\n",
    "            return (dt_obj, dt_obj+timedelta(years=interval))\n",
    "        else:\n",
    "            return (dt_obj-timedelta(years=-interval), dt_obj)\n",
    "\n",
    "\n",
    "base_time = \"2023-03-24 01:39:00\"\n",
    "\n",
    "\n",
    "print(\"해당 시간 사이에 http://localhost:3000/second에서 컴포넌트 조회\")\n",
    "\n",
    "result = batch_df.select(\"*\") \\\n",
    "    .where(col(\"creation_timestamp\") \\\n",
    "            .between(*timestamp_range(base_time, 1, 'm'))) \\\n",
    "    .where(col(\"event\") \\\n",
    "           .like(\"click\"))\n",
    "\n",
    "result_df = result.groupBy(col(\"service_id\"),col(\"target_id\"), col(\"location\")) \\\n",
    "                    .agg(count(\"*\").alias(\"click_count\")) \\\n",
    "                    .select(col(\"target_id\"), col(\"location\"), col(\"click_count\"),col(\"service_id\"))\\\n",
    "                    .withColumn(\"update_timestamp\", current_timestamp())\n",
    "result_df.show()\n",
    "\n",
    "\n",
    "print(\"해당 시간 사이에 마우스 클릭\")\n",
    "\n",
    "\n",
    "result2_df = result.groupBy(col(\"service_id\"),col(\"position_x\"), col(\"position_y\"), col(\"location\")) \\\n",
    "                    .agg(count(\"*\").alias(\"total_click\")) \\\n",
    "                    .select(col(\"position_x\"), col(\"position_y\"), col(\"service_id\"), col(\"location\"))\\\n",
    "                    .withColumn(\"update_timestamp\", current_timestamp())\n",
    "\n",
    "result2_df.show()\n",
    "\n",
    "\n",
    "print(\"해당 시간 사이에 페이지 체류\")\n",
    "\n",
    "\n",
    "result2_df = result.groupBy(col(\"service_id\"),col(\"position_x\"), col(\"position_y\"), col(\"location\")) \\\n",
    "                    .agg(count(\"*\").alias(\"total_click\")) \\\n",
    "                    .select(col(\"position_x\"), col(\"position_y\"), col(\"service_id\"), col(\"location\"))\\\n",
    "                    .withColumn(\"update_timestamp\", current_timestamp())\n",
    "\n",
    "result2_df.show()\n"
   ]
  },
  {
   "cell_type": "code",
   "execution_count": null,
   "id": "ec13d994-5490-4d48-9507-bf794ea90ad6",
   "metadata": {},
   "outputs": [],
   "source": []
  },
  {
   "cell_type": "markdown",
   "id": "2b0c746e-13b4-4f08-be0f-d251537b5f3c",
   "metadata": {},
   "source": [
    "### 4. Hive와 연결 및 INSERT\n",
    "Hive 내 `test` DATABASE의 `weblogs` TABLE의 구조는 다음과 같다.\n",
    "```\n",
    "CREATE TABLE IF NOT EXISTS weblogs (\n",
    "creation_timestamp STRING,\n",
    "session_id STRING,\n",
    "client_id STRING,\n",
    "event STRING,\n",
    "key STRING,\n",
    "location STRING,\n",
    "position_x STRING,\n",
    "position_y STRING,\n",
    "service_token STRING,\n",
    "target_id STRING\n",
    ") PARTITIONED BY (service_id STRING)\n",
    "STORED AS ORC\n",
    "LOCATION 'hdfs:///user/hive/warehouse';\n",
    "```"
   ]
  },
  {
   "cell_type": "code",
   "execution_count": null,
   "id": "0371e31e-b9bf-4a51-a366-4feb2cf26193",
   "metadata": {
    "tags": []
   },
   "outputs": [],
   "source": [
    "hive_df = batch_df.select(\"*\") \\\n",
    "    .where(col(\"creation_timestamp\") \\\n",
    "            .between(*timestamp_range(base_time, 1, 'D')))\n",
    "\n",
    "hive_df.write.mode(\"append\") \\\n",
    "        .format(\"hive\") \\\n",
    "        .partitionBy(\"service_id\") \\\n",
    "        .saveAsTable(\"test.weblogs\")"
   ]
  },
  {
   "cell_type": "code",
   "execution_count": 104,
   "id": "3f2b43c9-e685-4fe1-9ee8-a60fc8efe06e",
   "metadata": {
    "tags": []
   },
   "outputs": [],
   "source": [
    "session.stop()"
   ]
  },
  {
   "cell_type": "code",
   "execution_count": null,
   "id": "ff813695-296d-4e7f-aaf6-b40a4dc8a8f9",
   "metadata": {},
   "outputs": [],
   "source": []
  }
 ],
 "metadata": {
  "kernelspec": {
   "display_name": "Python 3 (ipykernel)",
   "language": "python",
   "name": "python3"
  },
  "language_info": {
   "codemirror_mode": {
    "name": "ipython",
    "version": 3
   },
   "file_extension": ".py",
   "mimetype": "text/x-python",
   "name": "python",
   "nbconvert_exporter": "python",
   "pygments_lexer": "ipython3",
   "version": "3.9.5"
  }
 },
 "nbformat": 4,
 "nbformat_minor": 5
}
